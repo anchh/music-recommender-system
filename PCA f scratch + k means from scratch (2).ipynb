{
 "cells": [
  {
   "cell_type": "code",
   "execution_count": 29,
   "metadata": {},
   "outputs": [],
   "source": [
    "import pandas as pd\n",
    "import numpy as np"
   ]
  },
  {
   "cell_type": "markdown",
   "metadata": {},
   "source": [
    "#### Reading the dataset"
   ]
  },
  {
   "cell_type": "code",
   "execution_count": 30,
   "metadata": {},
   "outputs": [],
   "source": [
    "df = pd.read_csv('onewayoranother3.csv')"
   ]
  },
  {
   "cell_type": "code",
   "execution_count": 31,
   "metadata": {},
   "outputs": [
    {
     "data": {
      "text/html": [
       "<div>\n",
       "<style scoped>\n",
       "    .dataframe tbody tr th:only-of-type {\n",
       "        vertical-align: middle;\n",
       "    }\n",
       "\n",
       "    .dataframe tbody tr th {\n",
       "        vertical-align: top;\n",
       "    }\n",
       "\n",
       "    .dataframe thead th {\n",
       "        text-align: right;\n",
       "    }\n",
       "</style>\n",
       "<table border=\"1\" class=\"dataframe\">\n",
       "  <thead>\n",
       "    <tr style=\"text-align: right;\">\n",
       "      <th></th>\n",
       "      <th>Unnamed: 0</th>\n",
       "      <th>acousticness</th>\n",
       "      <th>name</th>\n",
       "      <th>danceability</th>\n",
       "      <th>tempo</th>\n",
       "      <th>loudness</th>\n",
       "      <th>popularity</th>\n",
       "      <th>key</th>\n",
       "      <th>energy</th>\n",
       "      <th>id</th>\n",
       "      <th>instrumentalness</th>\n",
       "      <th>liveness</th>\n",
       "      <th>speechiness</th>\n",
       "      <th>valence</th>\n",
       "      <th>year</th>\n",
       "      <th>artists</th>\n",
       "      <th>genres</th>\n",
       "    </tr>\n",
       "  </thead>\n",
       "  <tbody>\n",
       "    <tr>\n",
       "      <td>0</td>\n",
       "      <td>0</td>\n",
       "      <td>0.995</td>\n",
       "      <td>Singende Bataillone 1. Teil Carl Woitschach</td>\n",
       "      <td>0.708</td>\n",
       "      <td>0.002377</td>\n",
       "      <td>-0.002373</td>\n",
       "      <td>0.0</td>\n",
       "      <td>0.003865</td>\n",
       "      <td>0.195</td>\n",
       "      <td>6KbQ3uYMLKb5jDxLF7wYDD</td>\n",
       "      <td>0.563</td>\n",
       "      <td>0.151</td>\n",
       "      <td>0.0506</td>\n",
       "      <td>0.779</td>\n",
       "      <td>1928</td>\n",
       "      <td>Carl Woitschach</td>\n",
       "      <td>[]</td>\n",
       "    </tr>\n",
       "  </tbody>\n",
       "</table>\n",
       "</div>"
      ],
      "text/plain": [
       "   Unnamed: 0  acousticness                                         name  \\\n",
       "0           0         0.995  Singende Bataillone 1. Teil Carl Woitschach   \n",
       "\n",
       "   danceability     tempo  loudness  popularity       key  energy  \\\n",
       "0         0.708  0.002377 -0.002373         0.0  0.003865   0.195   \n",
       "\n",
       "                       id  instrumentalness  liveness  speechiness  valence  \\\n",
       "0  6KbQ3uYMLKb5jDxLF7wYDD             0.563     0.151       0.0506    0.779   \n",
       "\n",
       "   year          artists genres  \n",
       "0  1928  Carl Woitschach     []  "
      ]
     },
     "execution_count": 31,
     "metadata": {},
     "output_type": "execute_result"
    }
   ],
   "source": [
    "df.head(1)"
   ]
  },
  {
   "cell_type": "code",
   "execution_count": 32,
   "metadata": {},
   "outputs": [],
   "source": [
    "df = df.drop(['Unnamed: 0'],axis=1)"
   ]
  },
  {
   "cell_type": "markdown",
   "metadata": {},
   "source": [
    "#### Standardising the numerical values for a more unbaised approach"
   ]
  },
  {
   "cell_type": "code",
   "execution_count": 33,
   "metadata": {},
   "outputs": [],
   "source": [
    "from sklearn.preprocessing import StandardScaler\n",
    "X = np.array(df.drop(['name','id','artists','genres','year'],axis=1))\n",
    "X_scaled = StandardScaler().fit_transform(X)"
   ]
  },
  {
   "cell_type": "markdown",
   "metadata": {},
   "source": [
    "#### Finding the covariance of the features"
   ]
  },
  {
   "cell_type": "code",
   "execution_count": 34,
   "metadata": {},
   "outputs": [],
   "source": [
    "features = X_scaled.T\n",
    "cov_matrix = np.cov(features)"
   ]
  },
  {
   "cell_type": "code",
   "execution_count": 35,
   "metadata": {},
   "outputs": [
    {
     "data": {
      "text/plain": [
       "array([[ 1.00000639e+00, -2.62426141e-01, -2.04865516e-01,\n",
       "        -5.61818118e-01, -5.88664084e-01, -2.22541927e-02,\n",
       "        -7.47472741e-01,  3.28837313e-01, -2.34791169e-02,\n",
       "        -5.53834532e-02, -1.76985562e-01],\n",
       "       [-2.62426141e-01,  1.00000639e+00, -4.51420577e-03,\n",
       "         2.90164490e-01,  2.12220088e-01,  2.31194907e-02,\n",
       "         2.15910019e-01, -2.78621571e-01, -1.05078912e-01,\n",
       "         2.29489867e-01,  5.58772789e-01],\n",
       "       [-2.04865516e-01, -4.51420577e-03,  1.00000639e+00,\n",
       "         2.11019272e-01,  1.34036019e-01,  2.78923160e-03,\n",
       "         2.49380911e-01, -1.05347589e-01,  7.11777064e-03,\n",
       "        -1.35763178e-02,  1.68807304e-01],\n",
       "       [-5.61818118e-01,  2.90164490e-01,  2.11019272e-01,\n",
       "         1.00000639e+00,  4.59373882e-01,  2.23796702e-02,\n",
       "         7.81317823e-01, -4.08004702e-01,  5.10116811e-02,\n",
       "        -1.15519789e-01,  3.04951475e-01],\n",
       "       [-5.88664084e-01,  2.12220088e-01,  1.34036019e-01,\n",
       "         4.59373882e-01,  1.00000639e+00,  1.14767983e-02,\n",
       "         4.92408446e-01, -2.85596780e-01, -7.79062786e-02,\n",
       "        -1.43620763e-01, -6.45074412e-03],\n",
       "       [-2.22541927e-02,  2.31194907e-02,  2.78923160e-03,\n",
       "         2.23796702e-02,  1.14767983e-02,  1.00000639e+00,\n",
       "         3.09087239e-02, -1.51495544e-02,  1.92931034e-05,\n",
       "         1.47642365e-02,  2.93092887e-02],\n",
       "       [-7.47472741e-01,  2.15910019e-01,  2.49380911e-01,\n",
       "         7.81317823e-01,  4.92408446e-01,  3.09087239e-02,\n",
       "         1.00000639e+00, -2.80468730e-01,  1.26207127e-01,\n",
       "        -5.29293850e-02,  3.43712505e-01],\n",
       "       [ 3.28837313e-01, -2.78621571e-01, -1.05347589e-01,\n",
       "        -4.08004702e-01, -2.85596780e-01, -1.51495544e-02,\n",
       "        -2.80468730e-01,  1.00000639e+00, -4.97697665e-02,\n",
       "        -1.19044783e-01, -1.87726708e-01],\n",
       "       [-2.34791169e-02, -1.05078912e-01,  7.11777064e-03,\n",
       "         5.10116811e-02, -7.79062786e-02,  1.92931034e-05,\n",
       "         1.26207127e-01, -4.97697665e-02,  1.00000639e+00,\n",
       "         1.49379611e-01, -3.32884039e-04],\n",
       "       [-5.53834532e-02,  2.29489867e-01, -1.35763178e-02,\n",
       "        -1.15519789e-01, -1.43620763e-01,  1.47642365e-02,\n",
       "        -5.29293850e-02, -1.19044783e-01,  1.49379611e-01,\n",
       "         1.00000639e+00,  5.68691303e-02],\n",
       "       [-1.76985562e-01,  5.58772789e-01,  1.68807304e-01,\n",
       "         3.04951475e-01, -6.45074412e-03,  2.93092887e-02,\n",
       "         3.43712505e-01, -1.87726708e-01, -3.32884039e-04,\n",
       "         5.68691303e-02,  1.00000639e+00]])"
      ]
     },
     "execution_count": 35,
     "metadata": {},
     "output_type": "execute_result"
    }
   ],
   "source": [
    "cov_matrix"
   ]
  },
  {
   "cell_type": "markdown",
   "metadata": {},
   "source": [
    "#### calculating eigenvalues and eigenvectors"
   ]
  },
  {
   "cell_type": "code",
   "execution_count": 36,
   "metadata": {},
   "outputs": [],
   "source": [
    "values, vectors = np.linalg.eig(cov_matrix)"
   ]
  },
  {
   "cell_type": "code",
   "execution_count": 37,
   "metadata": {},
   "outputs": [
    {
     "data": {
      "text/plain": [
       "array([3.4111866 , 1.47299421, 0.12397608, 0.28831681, 0.36346246,\n",
       "       0.54558115, 1.15931538, 0.75016941, 0.8753232 , 1.01167171,\n",
       "       0.99807323])"
      ]
     },
     "execution_count": 37,
     "metadata": {},
     "output_type": "execute_result"
    }
   ],
   "source": [
    "values"
   ]
  },
  {
   "cell_type": "code",
   "execution_count": 38,
   "metadata": {},
   "outputs": [
    {
     "data": {
      "text/plain": [
       "array([[-4.41062784e-01,  1.53519034e-01, -3.93870283e-01,\n",
       "        -4.35260237e-01, -5.35829201e-01, -7.37003338e-02,\n",
       "        -9.38965600e-02,  3.14365180e-01, -1.01190576e-01,\n",
       "         1.63954155e-01, -1.74758798e-03],\n",
       "       [ 2.67589375e-01,  5.48817259e-01, -1.74521782e-01,\n",
       "         4.83230741e-01, -3.05990059e-01, -3.99450328e-01,\n",
       "        -2.79967754e-01, -9.51425145e-02, -6.67076007e-02,\n",
       "        -1.29485927e-01, -3.72116841e-02],\n",
       "       [ 1.75536867e-01, -9.47967051e-02, -1.51798418e-02,\n",
       "         1.06349243e-01, -1.03040671e-01, -2.00464525e-01,\n",
       "         8.23870308e-02,  6.73899981e-02,  6.38308758e-01,\n",
       "         6.91618644e-01, -2.74398328e-02],\n",
       "       [ 4.52473001e-01, -1.13787512e-01,  4.56994220e-01,\n",
       "        -5.03302084e-02, -6.30068168e-01,  3.46802308e-01,\n",
       "         1.23776352e-02,  1.10056667e-01, -1.94177832e-01,\n",
       "         6.09338557e-02, -1.53656784e-03],\n",
       "       [ 3.56308026e-01, -3.17148192e-01,  6.76277516e-03,\n",
       "        -5.18496066e-01, -5.96476788e-02, -5.89642111e-01,\n",
       "        -1.13628103e-01, -1.13827527e-01,  1.31405788e-01,\n",
       "        -3.30464053e-01,  1.45220049e-04],\n",
       "       [ 2.36917269e-02,  4.74690208e-02,  4.21928775e-03,\n",
       "         6.57331543e-03, -4.84774710e-03, -1.57135067e-02,\n",
       "         1.72435422e-03,  2.80124376e-02,  3.18575093e-02,\n",
       "         1.53794643e-03,  9.97521444e-01],\n",
       "       [ 4.69724157e-01, -1.51712206e-01, -7.43161331e-01,\n",
       "        -4.57689021e-02,  2.93736116e-02,  3.11280672e-01,\n",
       "         1.20338531e-01, -2.16584218e-01, -1.73008341e-01,\n",
       "         1.12381491e-01,  1.57806621e-02],\n",
       "       [-2.92618403e-01, -1.47107100e-01,  1.15578220e-01,\n",
       "        -1.13206158e-02, -2.04790591e-01, -9.08639711e-02,\n",
       "        -1.13492826e-01, -8.30129373e-01, -2.06211862e-01,\n",
       "         2.87874977e-01,  4.07591899e-02],\n",
       "       [ 2.20093964e-02,  4.28881183e-02,  5.09246910e-02,\n",
       "         6.95349541e-02, -1.64752661e-02, -4.07065668e-01,\n",
       "         7.96124892e-01,  8.01733575e-02, -4.05015021e-01,\n",
       "         1.41399015e-01, -6.40469970e-04],\n",
       "       [ 3.32270057e-03,  5.04229958e-01,  3.16821540e-02,\n",
       "        -2.84185800e-01, -1.32487712e-01,  2.36082778e-01,\n",
       "         4.29966098e-01, -3.45355608e-01,  4.56496395e-01,\n",
       "        -2.78494857e-01, -2.44545361e-02],\n",
       "       [ 2.53053481e-01,  4.99716812e-01,  1.89806464e-01,\n",
       "        -4.54414216e-01,  3.83987117e-01, -5.97013672e-03,\n",
       "        -2.16561013e-01,  2.32148791e-03, -2.77495471e-01,\n",
       "         4.14776592e-01, -1.72945790e-02]])"
      ]
     },
     "execution_count": 38,
     "metadata": {},
     "output_type": "execute_result"
    }
   ],
   "source": [
    "vectors"
   ]
  },
  {
   "cell_type": "markdown",
   "metadata": {},
   "source": [
    "#### calculating the explained variances and choosing the higher values"
   ]
  },
  {
   "cell_type": "code",
   "execution_count": 39,
   "metadata": {},
   "outputs": [
    {
     "name": "stdout",
     "output_type": "stream",
     "text": [
      "1.0 \n",
      " [0.310105891891705, 0.13390770964004015, 0.01127048112166851, 0.026210451827858625, 0.033041830347397376, 0.04959796987187985, 0.10539163440482817, 0.06819678328469223, 0.07957432839063136, 0.09196956835848713, 0.09073335086081152]\n"
     ]
    }
   ],
   "source": [
    "explained_variances = []\n",
    "for i in range(len(values)):\n",
    "    explained_variances.append(values[i] / np.sum(values))\n",
    " \n",
    "print(np.sum(explained_variances), '\\n', explained_variances)"
   ]
  },
  {
   "cell_type": "markdown",
   "metadata": {},
   "source": [
    "#### Approximately 86% of the values have been incorporated"
   ]
  },
  {
   "cell_type": "code",
   "execution_count": 40,
   "metadata": {},
   "outputs": [],
   "source": [
    "projected = list()\n",
    "projected.append(X_scaled.dot(vectors.T[0]))\n",
    "projected.append(X_scaled.dot(vectors.T[1]))\n",
    "projected.append(X_scaled.dot(vectors.T[6]))\n",
    "projected.append(X_scaled.dot(vectors.T[7]))\n",
    "projected.append(X_scaled.dot(vectors.T[9]))\n",
    "projected.append(X_scaled.dot(vectors.T[10]))"
   ]
  },
  {
   "cell_type": "code",
   "execution_count": 41,
   "metadata": {},
   "outputs": [],
   "source": [
    "res = pd.DataFrame(projected)"
   ]
  },
  {
   "cell_type": "code",
   "execution_count": 42,
   "metadata": {},
   "outputs": [],
   "source": [
    "res = res.transpose()"
   ]
  },
  {
   "cell_type": "code",
   "execution_count": 43,
   "metadata": {},
   "outputs": [
    {
     "data": {
      "text/html": [
       "<div>\n",
       "<style scoped>\n",
       "    .dataframe tbody tr th:only-of-type {\n",
       "        vertical-align: middle;\n",
       "    }\n",
       "\n",
       "    .dataframe tbody tr th {\n",
       "        vertical-align: top;\n",
       "    }\n",
       "\n",
       "    .dataframe thead th {\n",
       "        text-align: right;\n",
       "    }\n",
       "</style>\n",
       "<table border=\"1\" class=\"dataframe\">\n",
       "  <thead>\n",
       "    <tr style=\"text-align: right;\">\n",
       "      <th></th>\n",
       "      <th>0</th>\n",
       "      <th>1</th>\n",
       "      <th>2</th>\n",
       "      <th>3</th>\n",
       "      <th>4</th>\n",
       "      <th>5</th>\n",
       "    </tr>\n",
       "  </thead>\n",
       "  <tbody>\n",
       "    <tr>\n",
       "      <td>0</td>\n",
       "      <td>-1.541460</td>\n",
       "      <td>1.561465</td>\n",
       "      <td>-1.091242</td>\n",
       "      <td>-0.244909</td>\n",
       "      <td>1.274373</td>\n",
       "      <td>1.348374</td>\n",
       "    </tr>\n",
       "    <tr>\n",
       "      <td>1</td>\n",
       "      <td>-4.855880</td>\n",
       "      <td>-0.493071</td>\n",
       "      <td>-0.667723</td>\n",
       "      <td>-1.258564</td>\n",
       "      <td>-0.355632</td>\n",
       "      <td>0.966655</td>\n",
       "    </tr>\n",
       "    <tr>\n",
       "      <td>2</td>\n",
       "      <td>-1.030287</td>\n",
       "      <td>4.954395</td>\n",
       "      <td>1.328649</td>\n",
       "      <td>-1.294250</td>\n",
       "      <td>-1.225028</td>\n",
       "      <td>-0.283366</td>\n",
       "    </tr>\n",
       "    <tr>\n",
       "      <td>3</td>\n",
       "      <td>-2.215720</td>\n",
       "      <td>1.644800</td>\n",
       "      <td>-1.406495</td>\n",
       "      <td>-1.351455</td>\n",
       "      <td>1.029483</td>\n",
       "      <td>-1.174713</td>\n",
       "    </tr>\n",
       "    <tr>\n",
       "      <td>4</td>\n",
       "      <td>-3.944471</td>\n",
       "      <td>-1.295857</td>\n",
       "      <td>-0.258271</td>\n",
       "      <td>-1.128535</td>\n",
       "      <td>-0.513041</td>\n",
       "      <td>1.883192</td>\n",
       "    </tr>\n",
       "  </tbody>\n",
       "</table>\n",
       "</div>"
      ],
      "text/plain": [
       "          0         1         2         3         4         5\n",
       "0 -1.541460  1.561465 -1.091242 -0.244909  1.274373  1.348374\n",
       "1 -4.855880 -0.493071 -0.667723 -1.258564 -0.355632  0.966655\n",
       "2 -1.030287  4.954395  1.328649 -1.294250 -1.225028 -0.283366\n",
       "3 -2.215720  1.644800 -1.406495 -1.351455  1.029483 -1.174713\n",
       "4 -3.944471 -1.295857 -0.258271 -1.128535 -0.513041  1.883192"
      ]
     },
     "execution_count": 43,
     "metadata": {},
     "output_type": "execute_result"
    }
   ],
   "source": [
    "res.head()"
   ]
  },
  {
   "cell_type": "markdown",
   "metadata": {},
   "source": [
    "#### Song feature measures are replaced by the values found after conducting PCA "
   ]
  },
  {
   "cell_type": "code",
   "execution_count": 44,
   "metadata": {},
   "outputs": [],
   "source": [
    "df = df.join(res)"
   ]
  },
  {
   "cell_type": "code",
   "execution_count": 45,
   "metadata": {},
   "outputs": [
    {
     "data": {
      "text/html": [
       "<div>\n",
       "<style scoped>\n",
       "    .dataframe tbody tr th:only-of-type {\n",
       "        vertical-align: middle;\n",
       "    }\n",
       "\n",
       "    .dataframe tbody tr th {\n",
       "        vertical-align: top;\n",
       "    }\n",
       "\n",
       "    .dataframe thead th {\n",
       "        text-align: right;\n",
       "    }\n",
       "</style>\n",
       "<table border=\"1\" class=\"dataframe\">\n",
       "  <thead>\n",
       "    <tr style=\"text-align: right;\">\n",
       "      <th></th>\n",
       "      <th>acousticness</th>\n",
       "      <th>name</th>\n",
       "      <th>danceability</th>\n",
       "      <th>tempo</th>\n",
       "      <th>loudness</th>\n",
       "      <th>popularity</th>\n",
       "      <th>key</th>\n",
       "      <th>energy</th>\n",
       "      <th>id</th>\n",
       "      <th>instrumentalness</th>\n",
       "      <th>...</th>\n",
       "      <th>valence</th>\n",
       "      <th>year</th>\n",
       "      <th>artists</th>\n",
       "      <th>genres</th>\n",
       "      <th>0</th>\n",
       "      <th>1</th>\n",
       "      <th>2</th>\n",
       "      <th>3</th>\n",
       "      <th>4</th>\n",
       "      <th>5</th>\n",
       "    </tr>\n",
       "  </thead>\n",
       "  <tbody>\n",
       "    <tr>\n",
       "      <td>0</td>\n",
       "      <td>0.995</td>\n",
       "      <td>Singende Bataillone 1. Teil Carl Woitschach</td>\n",
       "      <td>0.708</td>\n",
       "      <td>0.002377</td>\n",
       "      <td>-0.002373</td>\n",
       "      <td>0.0</td>\n",
       "      <td>0.003865</td>\n",
       "      <td>0.1950</td>\n",
       "      <td>6KbQ3uYMLKb5jDxLF7wYDD</td>\n",
       "      <td>0.563</td>\n",
       "      <td>...</td>\n",
       "      <td>0.7790</td>\n",
       "      <td>1928</td>\n",
       "      <td>Carl Woitschach</td>\n",
       "      <td>[]</td>\n",
       "      <td>-1.54146</td>\n",
       "      <td>1.561465</td>\n",
       "      <td>-1.091242</td>\n",
       "      <td>-0.244909</td>\n",
       "      <td>1.274373</td>\n",
       "      <td>1.348374</td>\n",
       "    </tr>\n",
       "    <tr>\n",
       "      <td>1</td>\n",
       "      <td>0.994</td>\n",
       "      <td>Fantasiestücke, Op. 111: Più tosto lento Rober...</td>\n",
       "      <td>0.379</td>\n",
       "      <td>0.001685</td>\n",
       "      <td>-0.005434</td>\n",
       "      <td>0.0</td>\n",
       "      <td>0.003092</td>\n",
       "      <td>0.0135</td>\n",
       "      <td>6KuQTIu1KoTTkLXKrwlLPV</td>\n",
       "      <td>0.901</td>\n",
       "      <td>...</td>\n",
       "      <td>0.0767</td>\n",
       "      <td>1928</td>\n",
       "      <td>Robert Schumann</td>\n",
       "      <td>['classical', 'early romantic era']</td>\n",
       "      <td>-4.85588</td>\n",
       "      <td>-0.493071</td>\n",
       "      <td>-0.667723</td>\n",
       "      <td>-1.258564</td>\n",
       "      <td>-0.355632</td>\n",
       "      <td>0.966655</td>\n",
       "    </tr>\n",
       "  </tbody>\n",
       "</table>\n",
       "<p>2 rows × 22 columns</p>\n",
       "</div>"
      ],
      "text/plain": [
       "   acousticness                                               name  \\\n",
       "0         0.995        Singende Bataillone 1. Teil Carl Woitschach   \n",
       "1         0.994  Fantasiestücke, Op. 111: Più tosto lento Rober...   \n",
       "\n",
       "   danceability     tempo  loudness  popularity       key  energy  \\\n",
       "0         0.708  0.002377 -0.002373         0.0  0.003865  0.1950   \n",
       "1         0.379  0.001685 -0.005434         0.0  0.003092  0.0135   \n",
       "\n",
       "                       id  instrumentalness  ...  valence  year  \\\n",
       "0  6KbQ3uYMLKb5jDxLF7wYDD             0.563  ...   0.7790  1928   \n",
       "1  6KuQTIu1KoTTkLXKrwlLPV             0.901  ...   0.0767  1928   \n",
       "\n",
       "           artists                               genres        0         1  \\\n",
       "0  Carl Woitschach                                   [] -1.54146  1.561465   \n",
       "1  Robert Schumann  ['classical', 'early romantic era'] -4.85588 -0.493071   \n",
       "\n",
       "          2         3         4         5  \n",
       "0 -1.091242 -0.244909  1.274373  1.348374  \n",
       "1 -0.667723 -1.258564 -0.355632  0.966655  \n",
       "\n",
       "[2 rows x 22 columns]"
      ]
     },
     "execution_count": 45,
     "metadata": {},
     "output_type": "execute_result"
    }
   ],
   "source": [
    "df.head(2)"
   ]
  },
  {
   "cell_type": "code",
   "execution_count": 46,
   "metadata": {},
   "outputs": [],
   "source": [
    "df = df[['name','id','artists','genres','year',0,1,2,3,4,5]]"
   ]
  },
  {
   "cell_type": "code",
   "execution_count": 47,
   "metadata": {
    "scrolled": true
   },
   "outputs": [
    {
     "data": {
      "text/html": [
       "<div>\n",
       "<style scoped>\n",
       "    .dataframe tbody tr th:only-of-type {\n",
       "        vertical-align: middle;\n",
       "    }\n",
       "\n",
       "    .dataframe tbody tr th {\n",
       "        vertical-align: top;\n",
       "    }\n",
       "\n",
       "    .dataframe thead th {\n",
       "        text-align: right;\n",
       "    }\n",
       "</style>\n",
       "<table border=\"1\" class=\"dataframe\">\n",
       "  <thead>\n",
       "    <tr style=\"text-align: right;\">\n",
       "      <th></th>\n",
       "      <th>name</th>\n",
       "      <th>id</th>\n",
       "      <th>artists</th>\n",
       "      <th>genres</th>\n",
       "      <th>year</th>\n",
       "      <th>0</th>\n",
       "      <th>1</th>\n",
       "      <th>2</th>\n",
       "      <th>3</th>\n",
       "      <th>4</th>\n",
       "      <th>5</th>\n",
       "    </tr>\n",
       "  </thead>\n",
       "  <tbody>\n",
       "    <tr>\n",
       "      <td>0</td>\n",
       "      <td>Singende Bataillone 1. Teil Carl Woitschach</td>\n",
       "      <td>6KbQ3uYMLKb5jDxLF7wYDD</td>\n",
       "      <td>Carl Woitschach</td>\n",
       "      <td>[]</td>\n",
       "      <td>1928</td>\n",
       "      <td>-1.541460</td>\n",
       "      <td>1.561465</td>\n",
       "      <td>-1.091242</td>\n",
       "      <td>-0.244909</td>\n",
       "      <td>1.274373</td>\n",
       "      <td>1.348374</td>\n",
       "    </tr>\n",
       "    <tr>\n",
       "      <td>1</td>\n",
       "      <td>Fantasiestücke, Op. 111: Più tosto lento Rober...</td>\n",
       "      <td>6KuQTIu1KoTTkLXKrwlLPV</td>\n",
       "      <td>Robert Schumann</td>\n",
       "      <td>['classical', 'early romantic era']</td>\n",
       "      <td>1928</td>\n",
       "      <td>-4.855880</td>\n",
       "      <td>-0.493071</td>\n",
       "      <td>-0.667723</td>\n",
       "      <td>-1.258564</td>\n",
       "      <td>-0.355632</td>\n",
       "      <td>0.966655</td>\n",
       "    </tr>\n",
       "    <tr>\n",
       "      <td>2</td>\n",
       "      <td>Chapter 1.18 - Zamek kaniowski Seweryn Goszczy...</td>\n",
       "      <td>6L63VW0PibdM1HDSBoqnoM</td>\n",
       "      <td>Seweryn Goszczyński</td>\n",
       "      <td>[]</td>\n",
       "      <td>1928</td>\n",
       "      <td>-1.030287</td>\n",
       "      <td>4.954395</td>\n",
       "      <td>1.328649</td>\n",
       "      <td>-1.294250</td>\n",
       "      <td>-1.225028</td>\n",
       "      <td>-0.283366</td>\n",
       "    </tr>\n",
       "    <tr>\n",
       "      <td>3</td>\n",
       "      <td>Bebamos Juntos - Instrumental (Remasterizado) ...</td>\n",
       "      <td>6M94FkXd15sOAOQYRnWPN8</td>\n",
       "      <td>Francisco Canaro</td>\n",
       "      <td>['tango', 'vintage tango']</td>\n",
       "      <td>1928</td>\n",
       "      <td>-2.215720</td>\n",
       "      <td>1.644800</td>\n",
       "      <td>-1.406495</td>\n",
       "      <td>-1.351455</td>\n",
       "      <td>1.029483</td>\n",
       "      <td>-1.174713</td>\n",
       "    </tr>\n",
       "    <tr>\n",
       "      <td>4</td>\n",
       "      <td>Polonaise-Fantaisie in A-Flat Major, Op. 61 Fr...</td>\n",
       "      <td>6N6tiFZ9vLTSOIxkj8qKrd</td>\n",
       "      <td>Frédéric Chopin</td>\n",
       "      <td>['classical', 'early romantic era', 'polish cl...</td>\n",
       "      <td>1928</td>\n",
       "      <td>-3.944471</td>\n",
       "      <td>-1.295857</td>\n",
       "      <td>-0.258271</td>\n",
       "      <td>-1.128535</td>\n",
       "      <td>-0.513041</td>\n",
       "      <td>1.883192</td>\n",
       "    </tr>\n",
       "  </tbody>\n",
       "</table>\n",
       "</div>"
      ],
      "text/plain": [
       "                                                name                      id  \\\n",
       "0        Singende Bataillone 1. Teil Carl Woitschach  6KbQ3uYMLKb5jDxLF7wYDD   \n",
       "1  Fantasiestücke, Op. 111: Più tosto lento Rober...  6KuQTIu1KoTTkLXKrwlLPV   \n",
       "2  Chapter 1.18 - Zamek kaniowski Seweryn Goszczy...  6L63VW0PibdM1HDSBoqnoM   \n",
       "3  Bebamos Juntos - Instrumental (Remasterizado) ...  6M94FkXd15sOAOQYRnWPN8   \n",
       "4  Polonaise-Fantaisie in A-Flat Major, Op. 61 Fr...  6N6tiFZ9vLTSOIxkj8qKrd   \n",
       "\n",
       "               artists                                             genres  \\\n",
       "0      Carl Woitschach                                                 []   \n",
       "1      Robert Schumann                ['classical', 'early romantic era']   \n",
       "2  Seweryn Goszczyński                                                 []   \n",
       "3     Francisco Canaro                         ['tango', 'vintage tango']   \n",
       "4      Frédéric Chopin  ['classical', 'early romantic era', 'polish cl...   \n",
       "\n",
       "   year         0         1         2         3         4         5  \n",
       "0  1928 -1.541460  1.561465 -1.091242 -0.244909  1.274373  1.348374  \n",
       "1  1928 -4.855880 -0.493071 -0.667723 -1.258564 -0.355632  0.966655  \n",
       "2  1928 -1.030287  4.954395  1.328649 -1.294250 -1.225028 -0.283366  \n",
       "3  1928 -2.215720  1.644800 -1.406495 -1.351455  1.029483 -1.174713  \n",
       "4  1928 -3.944471 -1.295857 -0.258271 -1.128535 -0.513041  1.883192  "
      ]
     },
     "execution_count": 47,
     "metadata": {},
     "output_type": "execute_result"
    }
   ],
   "source": [
    "df.head()"
   ]
  },
  {
   "cell_type": "code",
   "execution_count": 48,
   "metadata": {},
   "outputs": [
    {
     "data": {
      "text/plain": [
       "(156581, 11)"
      ]
     },
     "execution_count": 48,
     "metadata": {},
     "output_type": "execute_result"
    }
   ],
   "source": [
    "df.shape"
   ]
  },
  {
   "cell_type": "code",
   "execution_count": 49,
   "metadata": {},
   "outputs": [],
   "source": [
    "#df.to_csv('PCADWG.csv')\n",
    "newdf = pd.read_csv('Kmeansfromscratch2.csv')\n",
    "dfnew = pd.merge(df, newdf, left_on ='name', right_on = 'name')"
   ]
  },
  {
   "cell_type": "code",
   "execution_count": 50,
   "metadata": {},
   "outputs": [
    {
     "data": {
      "text/html": [
       "<div>\n",
       "<style scoped>\n",
       "    .dataframe tbody tr th:only-of-type {\n",
       "        vertical-align: middle;\n",
       "    }\n",
       "\n",
       "    .dataframe tbody tr th {\n",
       "        vertical-align: top;\n",
       "    }\n",
       "\n",
       "    .dataframe thead th {\n",
       "        text-align: right;\n",
       "    }\n",
       "</style>\n",
       "<table border=\"1\" class=\"dataframe\">\n",
       "  <thead>\n",
       "    <tr style=\"text-align: right;\">\n",
       "      <th></th>\n",
       "      <th>name</th>\n",
       "      <th>id_x</th>\n",
       "      <th>artists_x</th>\n",
       "      <th>genres_x</th>\n",
       "      <th>year_x</th>\n",
       "      <th>0</th>\n",
       "      <th>1</th>\n",
       "      <th>2</th>\n",
       "      <th>3</th>\n",
       "      <th>4</th>\n",
       "      <th>...</th>\n",
       "      <th>id_y</th>\n",
       "      <th>instrumentalness</th>\n",
       "      <th>liveness</th>\n",
       "      <th>speechiness</th>\n",
       "      <th>sub_cluster</th>\n",
       "      <th>valence</th>\n",
       "      <th>year_y</th>\n",
       "      <th>artists_y</th>\n",
       "      <th>genres_y</th>\n",
       "      <th>cluster_no</th>\n",
       "    </tr>\n",
       "  </thead>\n",
       "  <tbody>\n",
       "    <tr>\n",
       "      <td>0</td>\n",
       "      <td>Singende Bataillone 1. Teil Carl Woitschach</td>\n",
       "      <td>6KbQ3uYMLKb5jDxLF7wYDD</td>\n",
       "      <td>Carl Woitschach</td>\n",
       "      <td>[]</td>\n",
       "      <td>1928</td>\n",
       "      <td>-1.54146</td>\n",
       "      <td>1.561465</td>\n",
       "      <td>-1.091242</td>\n",
       "      <td>-0.244909</td>\n",
       "      <td>1.274373</td>\n",
       "      <td>...</td>\n",
       "      <td>6KbQ3uYMLKb5jDxLF7wYDD</td>\n",
       "      <td>0.563</td>\n",
       "      <td>0.151</td>\n",
       "      <td>0.0506</td>\n",
       "      <td>3.0</td>\n",
       "      <td>0.779</td>\n",
       "      <td>0.08</td>\n",
       "      <td>Carl Woitschach</td>\n",
       "      <td>[]</td>\n",
       "      <td>0.0</td>\n",
       "    </tr>\n",
       "  </tbody>\n",
       "</table>\n",
       "<p>1 rows × 29 columns</p>\n",
       "</div>"
      ],
      "text/plain": [
       "                                          name                    id_x  \\\n",
       "0  Singende Bataillone 1. Teil Carl Woitschach  6KbQ3uYMLKb5jDxLF7wYDD   \n",
       "\n",
       "         artists_x genres_x  year_x        0         1         2         3  \\\n",
       "0  Carl Woitschach       []    1928 -1.54146  1.561465 -1.091242 -0.244909   \n",
       "\n",
       "          4  ...                    id_y  instrumentalness  liveness  \\\n",
       "0  1.274373  ...  6KbQ3uYMLKb5jDxLF7wYDD             0.563     0.151   \n",
       "\n",
       "   speechiness  sub_cluster  valence  year_y        artists_y  genres_y  \\\n",
       "0       0.0506          3.0    0.779    0.08  Carl Woitschach        []   \n",
       "\n",
       "  cluster_no  \n",
       "0        0.0  \n",
       "\n",
       "[1 rows x 29 columns]"
      ]
     },
     "execution_count": 50,
     "metadata": {},
     "output_type": "execute_result"
    }
   ],
   "source": [
    "dfnew.head(1)"
   ]
  },
  {
   "cell_type": "code",
   "execution_count": 51,
   "metadata": {},
   "outputs": [],
   "source": [
    "dfnew = dfnew.drop(['Unnamed: 0',\"id_y\",'year_y','acousticness','danceability','instrumentalness','key','liveness','popularity','valence','tempo','loudness','energy','speechiness','artists_y','genres_x'],axis=1)\n",
    "dfnew = dfnew.rename(columns= {'id_x':\"id\", 'year_x':'year','artists_x':'artists','genres_y':'genres'})\n",
    "X = np.array(dfnew['name'])\n",
    "for i in range(0,len(X)):\n",
    "    X[i] = X[i].lower()\n",
    "dfnew = dfnew.drop(['name'],axis=1)\n",
    "dfnew.insert(loc = 0, column = 'name',value = X)"
   ]
  },
  {
   "cell_type": "code",
   "execution_count": 52,
   "metadata": {},
   "outputs": [
    {
     "data": {
      "text/html": [
       "<div>\n",
       "<style scoped>\n",
       "    .dataframe tbody tr th:only-of-type {\n",
       "        vertical-align: middle;\n",
       "    }\n",
       "\n",
       "    .dataframe tbody tr th {\n",
       "        vertical-align: top;\n",
       "    }\n",
       "\n",
       "    .dataframe thead th {\n",
       "        text-align: right;\n",
       "    }\n",
       "</style>\n",
       "<table border=\"1\" class=\"dataframe\">\n",
       "  <thead>\n",
       "    <tr style=\"text-align: right;\">\n",
       "      <th></th>\n",
       "      <th>name</th>\n",
       "      <th>id</th>\n",
       "      <th>artists</th>\n",
       "      <th>year</th>\n",
       "      <th>0</th>\n",
       "      <th>1</th>\n",
       "      <th>2</th>\n",
       "      <th>3</th>\n",
       "      <th>4</th>\n",
       "      <th>5</th>\n",
       "      <th>sub_cluster</th>\n",
       "      <th>genres</th>\n",
       "      <th>cluster_no</th>\n",
       "    </tr>\n",
       "  </thead>\n",
       "  <tbody>\n",
       "    <tr>\n",
       "      <td>0</td>\n",
       "      <td>singende bataillone 1. teil carl woitschach</td>\n",
       "      <td>6KbQ3uYMLKb5jDxLF7wYDD</td>\n",
       "      <td>Carl Woitschach</td>\n",
       "      <td>1928</td>\n",
       "      <td>-1.54146</td>\n",
       "      <td>1.561465</td>\n",
       "      <td>-1.091242</td>\n",
       "      <td>-0.244909</td>\n",
       "      <td>1.274373</td>\n",
       "      <td>1.348374</td>\n",
       "      <td>3.0</td>\n",
       "      <td>[]</td>\n",
       "      <td>0.0</td>\n",
       "    </tr>\n",
       "  </tbody>\n",
       "</table>\n",
       "</div>"
      ],
      "text/plain": [
       "                                          name                      id  \\\n",
       "0  singende bataillone 1. teil carl woitschach  6KbQ3uYMLKb5jDxLF7wYDD   \n",
       "\n",
       "           artists  year        0         1         2         3         4  \\\n",
       "0  Carl Woitschach  1928 -1.54146  1.561465 -1.091242 -0.244909  1.274373   \n",
       "\n",
       "          5  sub_cluster genres  cluster_no  \n",
       "0  1.348374          3.0     []         0.0  "
      ]
     },
     "execution_count": 52,
     "metadata": {},
     "output_type": "execute_result"
    }
   ],
   "source": [
    "dfnew.head(1)"
   ]
  },
  {
   "cell_type": "code",
   "execution_count": 53,
   "metadata": {},
   "outputs": [],
   "source": [
    "dfnew = dfnew[['name','id','artists','genres','year',0,1,2,3,4,5,'cluster_no','sub_cluster']]"
   ]
  },
  {
   "cell_type": "code",
   "execution_count": 54,
   "metadata": {
    "scrolled": true
   },
   "outputs": [
    {
     "data": {
      "text/html": [
       "<div>\n",
       "<style scoped>\n",
       "    .dataframe tbody tr th:only-of-type {\n",
       "        vertical-align: middle;\n",
       "    }\n",
       "\n",
       "    .dataframe tbody tr th {\n",
       "        vertical-align: top;\n",
       "    }\n",
       "\n",
       "    .dataframe thead th {\n",
       "        text-align: right;\n",
       "    }\n",
       "</style>\n",
       "<table border=\"1\" class=\"dataframe\">\n",
       "  <thead>\n",
       "    <tr style=\"text-align: right;\">\n",
       "      <th></th>\n",
       "      <th>name</th>\n",
       "      <th>id</th>\n",
       "      <th>artists</th>\n",
       "      <th>genres</th>\n",
       "      <th>year</th>\n",
       "      <th>0</th>\n",
       "      <th>1</th>\n",
       "      <th>2</th>\n",
       "      <th>3</th>\n",
       "      <th>4</th>\n",
       "      <th>5</th>\n",
       "      <th>cluster_no</th>\n",
       "      <th>sub_cluster</th>\n",
       "    </tr>\n",
       "  </thead>\n",
       "  <tbody>\n",
       "    <tr>\n",
       "      <td>0</td>\n",
       "      <td>singende bataillone 1. teil carl woitschach</td>\n",
       "      <td>6KbQ3uYMLKb5jDxLF7wYDD</td>\n",
       "      <td>Carl Woitschach</td>\n",
       "      <td>[]</td>\n",
       "      <td>1928</td>\n",
       "      <td>-1.54146</td>\n",
       "      <td>1.561465</td>\n",
       "      <td>-1.091242</td>\n",
       "      <td>-0.244909</td>\n",
       "      <td>1.274373</td>\n",
       "      <td>1.348374</td>\n",
       "      <td>0.0</td>\n",
       "      <td>3.0</td>\n",
       "    </tr>\n",
       "  </tbody>\n",
       "</table>\n",
       "</div>"
      ],
      "text/plain": [
       "                                          name                      id  \\\n",
       "0  singende bataillone 1. teil carl woitschach  6KbQ3uYMLKb5jDxLF7wYDD   \n",
       "\n",
       "           artists genres  year        0         1         2         3  \\\n",
       "0  Carl Woitschach     []  1928 -1.54146  1.561465 -1.091242 -0.244909   \n",
       "\n",
       "          4         5  cluster_no  sub_cluster  \n",
       "0  1.274373  1.348374         0.0          3.0  "
      ]
     },
     "execution_count": 54,
     "metadata": {},
     "output_type": "execute_result"
    }
   ],
   "source": [
    "dfnew.head(1)"
   ]
  },
  {
   "cell_type": "code",
   "execution_count": 55,
   "metadata": {},
   "outputs": [
    {
     "data": {
      "text/plain": [
       "(156581, 13)"
      ]
     },
     "execution_count": 55,
     "metadata": {},
     "output_type": "execute_result"
    }
   ],
   "source": [
    "dfnew.shape"
   ]
  },
  {
   "cell_type": "code",
   "execution_count": 56,
   "metadata": {},
   "outputs": [],
   "source": [
    "dfnew.to_csv(\"PCAClustering2.csv\")"
   ]
  },
  {
   "cell_type": "code",
   "execution_count": null,
   "metadata": {},
   "outputs": [],
   "source": []
  }
 ],
 "metadata": {
  "kernelspec": {
   "display_name": "Python 3",
   "language": "python",
   "name": "python3"
  },
  "language_info": {
   "codemirror_mode": {
    "name": "ipython",
    "version": 3
   },
   "file_extension": ".py",
   "mimetype": "text/x-python",
   "name": "python",
   "nbconvert_exporter": "python",
   "pygments_lexer": "ipython3",
   "version": "3.7.4"
  }
 },
 "nbformat": 4,
 "nbformat_minor": 2
}
