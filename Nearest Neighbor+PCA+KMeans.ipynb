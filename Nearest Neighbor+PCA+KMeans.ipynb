{
 "cells": [
  {
   "cell_type": "code",
   "execution_count": 1,
   "metadata": {},
   "outputs": [],
   "source": [
    "import pandas as pd\n",
    "import numpy as np\n",
    "import timeit"
   ]
  },
  {
   "cell_type": "code",
   "execution_count": 2,
   "metadata": {},
   "outputs": [],
   "source": [
    "df = pd.read_csv('PCAclustering2.csv')"
   ]
  },
  {
   "cell_type": "code",
   "execution_count": 3,
   "metadata": {
    "scrolled": false
   },
   "outputs": [
    {
     "data": {
      "text/html": [
       "<div>\n",
       "<style scoped>\n",
       "    .dataframe tbody tr th:only-of-type {\n",
       "        vertical-align: middle;\n",
       "    }\n",
       "\n",
       "    .dataframe tbody tr th {\n",
       "        vertical-align: top;\n",
       "    }\n",
       "\n",
       "    .dataframe thead th {\n",
       "        text-align: right;\n",
       "    }\n",
       "</style>\n",
       "<table border=\"1\" class=\"dataframe\">\n",
       "  <thead>\n",
       "    <tr style=\"text-align: right;\">\n",
       "      <th></th>\n",
       "      <th>Unnamed: 0</th>\n",
       "      <th>name</th>\n",
       "      <th>id</th>\n",
       "      <th>artists</th>\n",
       "      <th>genres</th>\n",
       "      <th>year</th>\n",
       "      <th>0</th>\n",
       "      <th>1</th>\n",
       "      <th>2</th>\n",
       "      <th>3</th>\n",
       "      <th>4</th>\n",
       "      <th>5</th>\n",
       "      <th>cluster_no</th>\n",
       "      <th>sub_cluster</th>\n",
       "    </tr>\n",
       "  </thead>\n",
       "  <tbody>\n",
       "    <tr>\n",
       "      <td>0</td>\n",
       "      <td>0</td>\n",
       "      <td>singende bataillone 1. teil carl woitschach</td>\n",
       "      <td>6KbQ3uYMLKb5jDxLF7wYDD</td>\n",
       "      <td>Carl Woitschach</td>\n",
       "      <td>[]</td>\n",
       "      <td>1928</td>\n",
       "      <td>-1.54146</td>\n",
       "      <td>1.561465</td>\n",
       "      <td>-1.091242</td>\n",
       "      <td>-0.244909</td>\n",
       "      <td>1.274373</td>\n",
       "      <td>1.348374</td>\n",
       "      <td>0.0</td>\n",
       "      <td>3.0</td>\n",
       "    </tr>\n",
       "  </tbody>\n",
       "</table>\n",
       "</div>"
      ],
      "text/plain": [
       "   Unnamed: 0                                         name  \\\n",
       "0           0  singende bataillone 1. teil carl woitschach   \n",
       "\n",
       "                       id          artists genres  year        0         1  \\\n",
       "0  6KbQ3uYMLKb5jDxLF7wYDD  Carl Woitschach     []  1928 -1.54146  1.561465   \n",
       "\n",
       "          2         3         4         5  cluster_no  sub_cluster  \n",
       "0 -1.091242 -0.244909  1.274373  1.348374         0.0          3.0  "
      ]
     },
     "execution_count": 3,
     "metadata": {},
     "output_type": "execute_result"
    }
   ],
   "source": [
    "df.head(1)"
   ]
  },
  {
   "cell_type": "code",
   "execution_count": 4,
   "metadata": {},
   "outputs": [],
   "source": [
    "df['year'] = (df['year']-1920)/100"
   ]
  },
  {
   "cell_type": "code",
   "execution_count": 5,
   "metadata": {},
   "outputs": [
    {
     "data": {
      "text/html": [
       "<div>\n",
       "<style scoped>\n",
       "    .dataframe tbody tr th:only-of-type {\n",
       "        vertical-align: middle;\n",
       "    }\n",
       "\n",
       "    .dataframe tbody tr th {\n",
       "        vertical-align: top;\n",
       "    }\n",
       "\n",
       "    .dataframe thead th {\n",
       "        text-align: right;\n",
       "    }\n",
       "</style>\n",
       "<table border=\"1\" class=\"dataframe\">\n",
       "  <thead>\n",
       "    <tr style=\"text-align: right;\">\n",
       "      <th></th>\n",
       "      <th>name</th>\n",
       "      <th>id</th>\n",
       "      <th>artists</th>\n",
       "      <th>genres</th>\n",
       "      <th>year</th>\n",
       "      <th>0</th>\n",
       "      <th>1</th>\n",
       "      <th>2</th>\n",
       "      <th>3</th>\n",
       "      <th>4</th>\n",
       "      <th>5</th>\n",
       "      <th>cluster_no</th>\n",
       "      <th>sub_cluster</th>\n",
       "    </tr>\n",
       "  </thead>\n",
       "  <tbody>\n",
       "    <tr>\n",
       "      <td>0</td>\n",
       "      <td>singende bataillone 1. teil carl woitschach</td>\n",
       "      <td>6KbQ3uYMLKb5jDxLF7wYDD</td>\n",
       "      <td>Carl Woitschach</td>\n",
       "      <td>[]</td>\n",
       "      <td>0.08</td>\n",
       "      <td>-1.54146</td>\n",
       "      <td>1.561465</td>\n",
       "      <td>-1.091242</td>\n",
       "      <td>-0.244909</td>\n",
       "      <td>1.274373</td>\n",
       "      <td>1.348374</td>\n",
       "      <td>0.0</td>\n",
       "      <td>3.0</td>\n",
       "    </tr>\n",
       "  </tbody>\n",
       "</table>\n",
       "</div>"
      ],
      "text/plain": [
       "                                          name                      id  \\\n",
       "0  singende bataillone 1. teil carl woitschach  6KbQ3uYMLKb5jDxLF7wYDD   \n",
       "\n",
       "           artists genres  year        0         1         2         3  \\\n",
       "0  Carl Woitschach     []  0.08 -1.54146  1.561465 -1.091242 -0.244909   \n",
       "\n",
       "          4         5  cluster_no  sub_cluster  \n",
       "0  1.274373  1.348374         0.0          3.0  "
      ]
     },
     "execution_count": 5,
     "metadata": {},
     "output_type": "execute_result"
    }
   ],
   "source": [
    "df =df.drop([\"Unnamed: 0\"],axis=1)\n",
    "df.head(1)"
   ]
  },
  {
   "cell_type": "code",
   "execution_count": 7,
   "metadata": {},
   "outputs": [
    {
     "name": "stdout",
     "output_type": "stream",
     "text": [
      "Enter Song Name: she dodie\n",
      "she dodie\n",
      "(6608, 14)\n",
      "6275\n",
      "Recommendations for she dodie:\n",
      "\n",
      "leray trippie redd\n",
      "wondering - from \"high school musical: the musical: the series\" olivia rodrigo & julia lester\n",
      "tepid rainscape fizzonaut\n",
      "ocean lady a\n",
      "i guess i just feel like john mayer\n",
      "heading south zach bryan\n",
      "deep summer walker\n",
      "san luis gregory alan isakov\n",
      "consequences - orchestra camila cabello\n",
      "alone, part 3 xxxtentacion\n",
      "Time:  0.2154211999995823\n"
     ]
    }
   ],
   "source": [
    "from sklearn.neighbors import NearestNeighbors\n",
    "knn_params = {'n_neighbors':range(1,10)}\n",
    "knn = NearestNeighbors(n_jobs=-1,algorithm = 'auto', n_neighbors=11)\n",
    "song = input(\"Enter Song Name: \")\n",
    "song = song.lower()\n",
    "q = df.index[df['name']==song]\n",
    "qind= q[0]\n",
    "print(df.iloc[qind]['name'])\n",
    "clust = df.iloc[qind]\n",
    "#isolating the rows belonging to the same cluster and sub cluster\n",
    "x = [clust['cluster_no'],clust['sub_cluster']]\n",
    "newdf = df[df['cluster_no']==x[0]]\n",
    "newdf = newdf[newdf['sub_cluster']==x[1]]\n",
    "newdf =newdf.reset_index()\n",
    "print(newdf.shape)\n",
    "#finding query index for the song in the new isolated dataset\n",
    "q = newdf.index[newdf['name']==song]\n",
    "query_index = q[0]\n",
    "X_wnames = np.array(newdf['name'])\n",
    "X = np.array(newdf.drop(['id','name','artists','genres'], axis = 1))\n",
    "print(query_index)\n",
    "start = timeit.default_timer()\n",
    "knn.fit(X)\n",
    "X_df = pd.DataFrame(X)\n",
    "query_index= q[0]\n",
    "distances, indices = knn.kneighbors(X_df.iloc[query_index,:].values.reshape(1,-1), n_neighbors =11)\n",
    "stop = timeit.default_timer()\n",
    "for i in range(0,len(distances.flatten())):\n",
    "    if i==0:\n",
    "        print(\"Recommendations for {0}:\\n\".format(X_wnames[query_index]))\n",
    "    else:\n",
    "        print('{1}'.format(i, X_wnames[indices.flatten()[i]]))\n",
    "print('Time: ', stop - start)"
   ]
  },
  {
   "cell_type": "code",
   "execution_count": null,
   "metadata": {},
   "outputs": [],
   "source": []
  }
 ],
 "metadata": {
  "kernelspec": {
   "display_name": "Python 3",
   "language": "python",
   "name": "python3"
  },
  "language_info": {
   "codemirror_mode": {
    "name": "ipython",
    "version": 3
   },
   "file_extension": ".py",
   "mimetype": "text/x-python",
   "name": "python",
   "nbconvert_exporter": "python",
   "pygments_lexer": "ipython3",
   "version": "3.7.4"
  }
 },
 "nbformat": 4,
 "nbformat_minor": 2
}
