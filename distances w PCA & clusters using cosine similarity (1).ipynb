{
 "cells": [
  {
   "cell_type": "code",
   "execution_count": 1,
   "metadata": {},
   "outputs": [],
   "source": [
    "import numpy as np\n",
    "import pandas as pd\n",
    "from math import sin, cos, radians, sqrt\n",
    "df = pd.read_csv(\"PCAClustering.csv\")\n",
    "df = df.drop(['Unnamed: 0'],axis =1)"
   ]
  },
  {
   "cell_type": "code",
   "execution_count": 2,
   "metadata": {},
   "outputs": [],
   "source": [
    "def distance(a,b):\n",
    "    a = np.array(a)\n",
    "    b = np.array(b)\n",
    "    distance=1-(np.dot(a,b)/np.sqrt(np.dot(a,a)*np.dot(b,b))) #calculating cosine distance between the PCA features of the two songs\n",
    "    return distance\n",
    "\n",
    "def Similarity(Id1, Id2):\n",
    "    a = np.array(newdf.iloc[Id1])\n",
    "    b = np.array(newdf.iloc[Id2])\n",
    "    aA = a[6:12] #isolating the features of the songs (PCA values)\n",
    "    bB = b[6:12]\n",
    "    extra=0\n",
    "    genre=0\n",
    "    if a[1] == b[1]: #to make sure the same song is not recommended\n",
    "        return 1000\n",
    "    if a[3]==b[3]: #to make sure song by the same artist is not recommended unless no similar song is found\n",
    "        extra = extra+0.5\n",
    "    for i in a[4]:\n",
    "        if i not in b[4]:\n",
    "            genre = genre+1\n",
    "    if genre == len(a[4]): #to make sure song that does not share the same genre is not recommended\n",
    "        return 1000;\n",
    "    extra = extra+ 0.01*(genre) #penalising for genres that are not common\n",
    "    if abs(a[5]-b[5])>5:\n",
    "        extra = extra + abs(a[5]-b[5])/10 #penalising if the year gap between the songs is too large\n",
    "    Distance = distance(aA,bB)\n",
    "    return extra+Distance"
   ]
  },
  {
   "cell_type": "code",
   "execution_count": 5,
   "metadata": {
    "scrolled": true
   },
   "outputs": [
    {
     "name": "stdout",
     "output_type": "stream",
     "text": [
      "Enter Song Name: sick of losing soulmates dodie\n",
      "sick of losing soulmates dodie\n",
      "(9033, 14)\n",
      "7168\n",
      "                                    name     score\n",
      "7880              sleep rain rain sounds  0.044828\n",
      "3632                   medicine the 1975  0.051583\n",
      "8765         feeling whitney post malone  0.069779\n",
      "7074                   lose it oh wonder  0.085452\n",
      "7958             saturn sleeping at last  0.090064\n",
      "3851             brown noise brown noise  0.095021\n",
      "5346        never ever land trippie redd  0.096979\n",
      "7064         new house rex orange county  0.097428\n",
      "4250  ghosts that we knew mumford & sons  0.097887\n",
      "7433   let go ark patrol & veronika redd  0.112400\n"
     ]
    }
   ],
   "source": [
    "#def pred(song):\n",
    "song = input(\"Enter Song Name: \")\n",
    "song = song.lower()\n",
    "q = df.index[df['name']==song]\n",
    "qind= q[0]\n",
    "print(df.iloc[qind]['name'])\n",
    "clust = df.iloc[qind]\n",
    "#isolating the rows belonging to the same cluster and sub cluster\n",
    "x = [clust['cluster_no'],clust['sub_cluster']]\n",
    "newdf = df[df['cluster_no']==x[0]]\n",
    "newdf = newdf[newdf['sub_cluster']==x[1]]\n",
    "newdf =newdf.reset_index()\n",
    "print(newdf.shape)\n",
    "#finding query index for the song in the new isolated dataset\n",
    "q = newdf.index[newdf['name']==song]\n",
    "query_index1 = q[0]\n",
    "print(query_index1)\n",
    "simdict = []\n",
    "#calculating similarity between the input song and the rest of the songs in the dataset\n",
    "for i in range(0, newdf.shape[0]):\n",
    "    simdict.append((newdf.iloc[i]['name'],abs(Similarity(query_index1,i))))\n",
    "new = pd.DataFrame.from_dict(simdict)\n",
    "new.columns = [\"name\",\"score\"]\n",
    "new=new.sort_values('score') #sorting the scores in ascending order\n",
    "res = new.head(10)\n",
    "print(res)"
   ]
  },
  {
   "cell_type": "code",
   "execution_count": null,
   "metadata": {},
   "outputs": [],
   "source": []
  },
  {
   "cell_type": "code",
   "execution_count": null,
   "metadata": {},
   "outputs": [],
   "source": []
  }
 ],
 "metadata": {
  "kernelspec": {
   "display_name": "Python 3",
   "language": "python",
   "name": "python3"
  },
  "language_info": {
   "codemirror_mode": {
    "name": "ipython",
    "version": 3
   },
   "file_extension": ".py",
   "mimetype": "text/x-python",
   "name": "python",
   "nbconvert_exporter": "python",
   "pygments_lexer": "ipython3",
   "version": "3.7.4"
  }
 },
 "nbformat": 4,
 "nbformat_minor": 2
}
