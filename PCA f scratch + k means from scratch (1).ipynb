{
 "cells": [
  {
   "cell_type": "code",
   "execution_count": 1,
   "metadata": {},
   "outputs": [],
   "source": [
    "import pandas as pd\n",
    "import numpy as np"
   ]
  },
  {
   "cell_type": "markdown",
   "metadata": {},
   "source": [
    "#### Reading the dataset"
   ]
  },
  {
   "cell_type": "code",
   "execution_count": 2,
   "metadata": {},
   "outputs": [],
   "source": [
    "df = pd.read_csv('onewayoranother3.csv')"
   ]
  },
  {
   "cell_type": "code",
   "execution_count": 3,
   "metadata": {},
   "outputs": [
    {
     "data": {
      "text/html": [
       "<div>\n",
       "<style scoped>\n",
       "    .dataframe tbody tr th:only-of-type {\n",
       "        vertical-align: middle;\n",
       "    }\n",
       "\n",
       "    .dataframe tbody tr th {\n",
       "        vertical-align: top;\n",
       "    }\n",
       "\n",
       "    .dataframe thead th {\n",
       "        text-align: right;\n",
       "    }\n",
       "</style>\n",
       "<table border=\"1\" class=\"dataframe\">\n",
       "  <thead>\n",
       "    <tr style=\"text-align: right;\">\n",
       "      <th></th>\n",
       "      <th>Unnamed: 0</th>\n",
       "      <th>acousticness</th>\n",
       "      <th>name</th>\n",
       "      <th>danceability</th>\n",
       "      <th>tempo</th>\n",
       "      <th>loudness</th>\n",
       "      <th>popularity</th>\n",
       "      <th>year</th>\n",
       "      <th>key</th>\n",
       "      <th>energy</th>\n",
       "      <th>id</th>\n",
       "      <th>instrumentalness</th>\n",
       "      <th>liveness</th>\n",
       "      <th>speechiness</th>\n",
       "      <th>valence</th>\n",
       "      <th>artists</th>\n",
       "      <th>genres</th>\n",
       "    </tr>\n",
       "  </thead>\n",
       "  <tbody>\n",
       "    <tr>\n",
       "      <td>0</td>\n",
       "      <td>0</td>\n",
       "      <td>0.995</td>\n",
       "      <td>Singende Bataillone 1. Teil Carl Woitschach</td>\n",
       "      <td>0.708</td>\n",
       "      <td>0.002377</td>\n",
       "      <td>-0.002373</td>\n",
       "      <td>0.0</td>\n",
       "      <td>0.003865</td>\n",
       "      <td>0.002365</td>\n",
       "      <td>0.195</td>\n",
       "      <td>6KbQ3uYMLKb5jDxLF7wYDD</td>\n",
       "      <td>0.563</td>\n",
       "      <td>0.151</td>\n",
       "      <td>0.0506</td>\n",
       "      <td>0.779</td>\n",
       "      <td>Carl Woitschach</td>\n",
       "      <td>[]</td>\n",
       "    </tr>\n",
       "  </tbody>\n",
       "</table>\n",
       "</div>"
      ],
      "text/plain": [
       "   Unnamed: 0  acousticness                                         name  \\\n",
       "0           0         0.995  Singende Bataillone 1. Teil Carl Woitschach   \n",
       "\n",
       "   danceability     tempo  loudness  popularity      year       key  energy  \\\n",
       "0         0.708  0.002377 -0.002373         0.0  0.003865  0.002365   0.195   \n",
       "\n",
       "                       id  instrumentalness  liveness  speechiness  valence  \\\n",
       "0  6KbQ3uYMLKb5jDxLF7wYDD             0.563     0.151       0.0506    0.779   \n",
       "\n",
       "           artists genres  \n",
       "0  Carl Woitschach     []  "
      ]
     },
     "execution_count": 3,
     "metadata": {},
     "output_type": "execute_result"
    }
   ],
   "source": [
    "df.head(1)"
   ]
  },
  {
   "cell_type": "code",
   "execution_count": 4,
   "metadata": {},
   "outputs": [],
   "source": [
    "df = df.drop(['Unnamed: 0'],axis=1)"
   ]
  },
  {
   "cell_type": "markdown",
   "metadata": {},
   "source": [
    "#### Standardising the numerical values for a more unbaised approach"
   ]
  },
  {
   "cell_type": "code",
   "execution_count": 5,
   "metadata": {},
   "outputs": [],
   "source": [
    "from sklearn.preprocessing import StandardScaler\n",
    "X = np.array(df.drop(['name','id','artists','genres','year'],axis=1))\n",
    "X_scaled = StandardScaler().fit_transform(X)"
   ]
  },
  {
   "cell_type": "markdown",
   "metadata": {},
   "source": [
    "#### Finding the covariance of the features"
   ]
  },
  {
   "cell_type": "code",
   "execution_count": 6,
   "metadata": {},
   "outputs": [],
   "source": [
    "features = X_scaled.T\n",
    "cov_matrix = np.cov(features)"
   ]
  },
  {
   "cell_type": "code",
   "execution_count": 7,
   "metadata": {},
   "outputs": [
    {
     "data": {
      "text/plain": [
       "array([[ 1.00000639e+00, -2.62426141e-01, -2.04865516e-01,\n",
       "        -5.61818118e-01, -5.88664084e-01, -6.19251766e-01,\n",
       "        -7.47472741e-01,  3.28837313e-01, -2.34791169e-02,\n",
       "        -5.53834532e-02, -1.76985562e-01],\n",
       "       [-2.62426141e-01,  1.00000639e+00, -4.51420577e-03,\n",
       "         2.90164490e-01,  2.12220088e-01,  1.94293968e-01,\n",
       "         2.15910019e-01, -2.78621571e-01, -1.05078912e-01,\n",
       "         2.29489867e-01,  5.58772789e-01],\n",
       "       [-2.04865516e-01, -4.51420577e-03,  1.00000639e+00,\n",
       "         2.11019272e-01,  1.34036019e-01,  1.37315799e-01,\n",
       "         2.49380911e-01, -1.05347589e-01,  7.11777064e-03,\n",
       "        -1.35763178e-02,  1.68807304e-01],\n",
       "       [-5.61818118e-01,  2.90164490e-01,  2.11019272e-01,\n",
       "         1.00000639e+00,  4.59373882e-01,  4.82042809e-01,\n",
       "         7.81317823e-01, -4.08004702e-01,  5.10116811e-02,\n",
       "        -1.15519789e-01,  3.04951475e-01],\n",
       "       [-5.88664084e-01,  2.12220088e-01,  1.34036019e-01,\n",
       "         4.59373882e-01,  1.00000639e+00,  8.87268135e-01,\n",
       "         4.92408446e-01, -2.85596780e-01, -7.79062786e-02,\n",
       "        -1.43620763e-01, -6.45074412e-03],\n",
       "       [-6.19251766e-01,  1.94293968e-01,  1.37315799e-01,\n",
       "         4.82042809e-01,  8.87268135e-01,  1.00000639e+00,\n",
       "         5.26701330e-01, -2.78245339e-01, -5.94115199e-02,\n",
       "        -1.32112538e-01, -4.29620881e-02],\n",
       "       [-7.47472741e-01,  2.15910019e-01,  2.49380911e-01,\n",
       "         7.81317823e-01,  4.92408446e-01,  5.26701330e-01,\n",
       "         1.00000639e+00, -2.80468730e-01,  1.26207127e-01,\n",
       "        -5.29293850e-02,  3.43712505e-01],\n",
       "       [ 3.28837313e-01, -2.78621571e-01, -1.05347589e-01,\n",
       "        -4.08004702e-01, -2.85596780e-01, -2.78245339e-01,\n",
       "        -2.80468730e-01,  1.00000639e+00, -4.97697665e-02,\n",
       "        -1.19044783e-01, -1.87726708e-01],\n",
       "       [-2.34791169e-02, -1.05078912e-01,  7.11777064e-03,\n",
       "         5.10116811e-02, -7.79062786e-02, -5.94115199e-02,\n",
       "         1.26207127e-01, -4.97697665e-02,  1.00000639e+00,\n",
       "         1.49379611e-01, -3.32884039e-04],\n",
       "       [-5.53834532e-02,  2.29489867e-01, -1.35763178e-02,\n",
       "        -1.15519789e-01, -1.43620763e-01, -1.32112538e-01,\n",
       "        -5.29293850e-02, -1.19044783e-01,  1.49379611e-01,\n",
       "         1.00000639e+00,  5.68691303e-02],\n",
       "       [-1.76985562e-01,  5.58772789e-01,  1.68807304e-01,\n",
       "         3.04951475e-01, -6.45074412e-03, -4.29620881e-02,\n",
       "         3.43712505e-01, -1.87726708e-01, -3.32884039e-04,\n",
       "         5.68691303e-02,  1.00000639e+00]])"
      ]
     },
     "execution_count": 7,
     "metadata": {},
     "output_type": "execute_result"
    }
   ],
   "source": [
    "cov_matrix"
   ]
  },
  {
   "cell_type": "markdown",
   "metadata": {},
   "source": [
    "#### calculating eigenvalues and eigenvectors"
   ]
  },
  {
   "cell_type": "code",
   "execution_count": 8,
   "metadata": {},
   "outputs": [],
   "source": [
    "values, vectors = np.linalg.eig(cov_matrix)"
   ]
  },
  {
   "cell_type": "code",
   "execution_count": 9,
   "metadata": {},
   "outputs": [
    {
     "data": {
      "text/plain": [
       "array([3.92777602, 1.64862769, 0.12473964, 0.1085166 , 0.30346638,\n",
       "       0.36473344, 1.16753202, 1.09029926, 0.62003997, 0.76101603,\n",
       "       0.88332319])"
      ]
     },
     "execution_count": 9,
     "metadata": {},
     "output_type": "execute_result"
    }
   ],
   "source": [
    "values"
   ]
  },
  {
   "cell_type": "code",
   "execution_count": 10,
   "metadata": {},
   "outputs": [
    {
     "data": {
      "text/plain": [
       "array([[ 0.41843389,  0.05489964,  0.38954104,  0.04880205,  0.43322318,\n",
       "         0.57099959,  0.10259995, -0.0842922 ,  0.29083426,  0.22140229,\n",
       "         0.05307468],\n",
       "       [-0.22006006,  0.4933516 ,  0.1685712 ,  0.05346585, -0.55062466,\n",
       "         0.25467011,  0.37504233,  0.1905048 ,  0.33098101, -0.1416916 ,\n",
       "         0.04779934],\n",
       "       [-0.15066139,  0.03383708,  0.01449397,  0.00616745, -0.12660213,\n",
       "         0.08955769, -0.20978111, -0.548454  ,  0.23337008,  0.02618381,\n",
       "        -0.74290128],\n",
       "       [-0.4081917 ,  0.04675854, -0.45140403, -0.07412507,  0.03522903,\n",
       "         0.64508311, -0.08499743, -0.18995383, -0.30066568,  0.14655401,\n",
       "         0.22220442],\n",
       "       [-0.38805589, -0.32223697, -0.15673321,  0.65983133,  0.28800799,\n",
       "         0.01992935,  0.14002663,  0.22057635,  0.34664843, -0.08917394,\n",
       "        -0.07686996],\n",
       "       [-0.39453667, -0.33796213,  0.15544739, -0.71339374,  0.19319371,\n",
       "         0.05204587,  0.09915443,  0.22518035,  0.28063711, -0.10997048,\n",
       "        -0.07487877],\n",
       "       [-0.42726994,  0.01885997,  0.72075345,  0.18517684,  0.06934316,\n",
       "        -0.01570928, -0.19758867, -0.19727145, -0.34451485, -0.17455441,\n",
       "         0.17645513],\n",
       "       [ 0.25715568, -0.18679625, -0.11689033, -0.00969717, -0.01667112,\n",
       "         0.19887916,  0.06146469, -0.24858659,  0.01287935, -0.87693873,\n",
       "         0.10309836],\n",
       "       [-0.00625245,  0.1032854 , -0.05146298, -0.00444727, -0.09812742,\n",
       "        -0.00116211, -0.78844379,  0.08157839,  0.48437822, -0.04727999,\n",
       "         0.33442215],\n",
       "       [ 0.02196931,  0.40718497, -0.03339097, -0.00267897,  0.29638092,\n",
       "         0.159144  , -0.26496626,  0.54876793, -0.27381224, -0.27569989,\n",
       "        -0.44394844],\n",
       "       [-0.17807409,  0.56611645, -0.17385163, -0.10250727,  0.51868248,\n",
       "        -0.34163722,  0.18296131, -0.33443353,  0.18338888, -0.10468404,\n",
       "         0.1772323 ]])"
      ]
     },
     "execution_count": 10,
     "metadata": {},
     "output_type": "execute_result"
    }
   ],
   "source": [
    "vectors"
   ]
  },
  {
   "cell_type": "markdown",
   "metadata": {},
   "source": [
    "#### calculating the explained variances and choosing the higher values"
   ]
  },
  {
   "cell_type": "code",
   "execution_count": 11,
   "metadata": {},
   "outputs": [
    {
     "name": "stdout",
     "output_type": "stream",
     "text": [
      "1.0 \n",
      " [0.3570682667253339, 0.14987428768017866, 0.011339894708089774, 0.009865082842647541, 0.027587676727564528, 0.03315737343515563, 0.10613859660116848, 0.09911748156683897, 0.05636691037642541, 0.06918283369094722, 0.08030159564564984]\n"
     ]
    }
   ],
   "source": [
    "explained_variances = []\n",
    "for i in range(len(values)):\n",
    "    explained_variances.append(values[i] / np.sum(values))\n",
    " \n",
    "print(np.sum(explained_variances), '\\n', explained_variances)"
   ]
  },
  {
   "cell_type": "markdown",
   "metadata": {},
   "source": [
    "#### Approximately 86% of the values have been incorporated"
   ]
  },
  {
   "cell_type": "code",
   "execution_count": 12,
   "metadata": {},
   "outputs": [],
   "source": [
    "projected = list()\n",
    "projected.append(X_scaled.dot(vectors.T[0]))\n",
    "projected.append(X_scaled.dot(vectors.T[1]))\n",
    "projected.append(X_scaled.dot(vectors.T[6]))\n",
    "projected.append(X_scaled.dot(vectors.T[7]))\n",
    "projected.append(X_scaled.dot(vectors.T[9]))\n",
    "projected.append(X_scaled.dot(vectors.T[10]))"
   ]
  },
  {
   "cell_type": "code",
   "execution_count": 13,
   "metadata": {},
   "outputs": [],
   "source": [
    "res = pd.DataFrame(projected)"
   ]
  },
  {
   "cell_type": "code",
   "execution_count": 14,
   "metadata": {},
   "outputs": [],
   "source": [
    "res = res.transpose()"
   ]
  },
  {
   "cell_type": "code",
   "execution_count": 15,
   "metadata": {},
   "outputs": [
    {
     "data": {
      "text/html": [
       "<div>\n",
       "<style scoped>\n",
       "    .dataframe tbody tr th:only-of-type {\n",
       "        vertical-align: middle;\n",
       "    }\n",
       "\n",
       "    .dataframe tbody tr th {\n",
       "        vertical-align: top;\n",
       "    }\n",
       "\n",
       "    .dataframe thead th {\n",
       "        text-align: right;\n",
       "    }\n",
       "</style>\n",
       "<table border=\"1\" class=\"dataframe\">\n",
       "  <thead>\n",
       "    <tr style=\"text-align: right;\">\n",
       "      <th></th>\n",
       "      <th>0</th>\n",
       "      <th>1</th>\n",
       "      <th>2</th>\n",
       "      <th>3</th>\n",
       "      <th>4</th>\n",
       "      <th>5</th>\n",
       "    </tr>\n",
       "  </thead>\n",
       "  <tbody>\n",
       "    <tr>\n",
       "      <td>0</td>\n",
       "      <td>2.351675</td>\n",
       "      <td>1.779346</td>\n",
       "      <td>0.910064</td>\n",
       "      <td>-1.281001</td>\n",
       "      <td>-0.472533</td>\n",
       "      <td>0.425612</td>\n",
       "    </tr>\n",
       "    <tr>\n",
       "      <td>1</td>\n",
       "      <td>5.135041</td>\n",
       "      <td>-1.101633</td>\n",
       "      <td>0.733296</td>\n",
       "      <td>0.222134</td>\n",
       "      <td>-1.181466</td>\n",
       "      <td>-0.069818</td>\n",
       "    </tr>\n",
       "    <tr>\n",
       "      <td>2</td>\n",
       "      <td>2.011972</td>\n",
       "      <td>4.620201</td>\n",
       "      <td>-0.344635</td>\n",
       "      <td>2.715108</td>\n",
       "      <td>-0.962605</td>\n",
       "      <td>-2.328331</td>\n",
       "    </tr>\n",
       "    <tr>\n",
       "      <td>3</td>\n",
       "      <td>2.897644</td>\n",
       "      <td>1.714220</td>\n",
       "      <td>1.348373</td>\n",
       "      <td>-0.943884</td>\n",
       "      <td>-1.515001</td>\n",
       "      <td>0.436541</td>\n",
       "    </tr>\n",
       "    <tr>\n",
       "      <td>4</td>\n",
       "      <td>4.298736</td>\n",
       "      <td>-1.524035</td>\n",
       "      <td>0.117903</td>\n",
       "      <td>-0.091247</td>\n",
       "      <td>-0.909719</td>\n",
       "      <td>1.037288</td>\n",
       "    </tr>\n",
       "  </tbody>\n",
       "</table>\n",
       "</div>"
      ],
      "text/plain": [
       "          0         1         2         3         4         5\n",
       "0  2.351675  1.779346  0.910064 -1.281001 -0.472533  0.425612\n",
       "1  5.135041 -1.101633  0.733296  0.222134 -1.181466 -0.069818\n",
       "2  2.011972  4.620201 -0.344635  2.715108 -0.962605 -2.328331\n",
       "3  2.897644  1.714220  1.348373 -0.943884 -1.515001  0.436541\n",
       "4  4.298736 -1.524035  0.117903 -0.091247 -0.909719  1.037288"
      ]
     },
     "execution_count": 15,
     "metadata": {},
     "output_type": "execute_result"
    }
   ],
   "source": [
    "res.head()"
   ]
  },
  {
   "cell_type": "markdown",
   "metadata": {},
   "source": [
    "#### Song feature measures are replaced by the values found after conducting PCA "
   ]
  },
  {
   "cell_type": "code",
   "execution_count": 16,
   "metadata": {},
   "outputs": [],
   "source": [
    "df = df.join(res)"
   ]
  },
  {
   "cell_type": "code",
   "execution_count": 17,
   "metadata": {},
   "outputs": [
    {
     "data": {
      "text/html": [
       "<div>\n",
       "<style scoped>\n",
       "    .dataframe tbody tr th:only-of-type {\n",
       "        vertical-align: middle;\n",
       "    }\n",
       "\n",
       "    .dataframe tbody tr th {\n",
       "        vertical-align: top;\n",
       "    }\n",
       "\n",
       "    .dataframe thead th {\n",
       "        text-align: right;\n",
       "    }\n",
       "</style>\n",
       "<table border=\"1\" class=\"dataframe\">\n",
       "  <thead>\n",
       "    <tr style=\"text-align: right;\">\n",
       "      <th></th>\n",
       "      <th>acousticness</th>\n",
       "      <th>name</th>\n",
       "      <th>danceability</th>\n",
       "      <th>tempo</th>\n",
       "      <th>loudness</th>\n",
       "      <th>popularity</th>\n",
       "      <th>year</th>\n",
       "      <th>key</th>\n",
       "      <th>energy</th>\n",
       "      <th>id</th>\n",
       "      <th>...</th>\n",
       "      <th>speechiness</th>\n",
       "      <th>valence</th>\n",
       "      <th>artists</th>\n",
       "      <th>genres</th>\n",
       "      <th>0</th>\n",
       "      <th>1</th>\n",
       "      <th>2</th>\n",
       "      <th>3</th>\n",
       "      <th>4</th>\n",
       "      <th>5</th>\n",
       "    </tr>\n",
       "  </thead>\n",
       "  <tbody>\n",
       "    <tr>\n",
       "      <td>0</td>\n",
       "      <td>0.995</td>\n",
       "      <td>Singende Bataillone 1. Teil Carl Woitschach</td>\n",
       "      <td>0.708</td>\n",
       "      <td>0.002377</td>\n",
       "      <td>-0.002373</td>\n",
       "      <td>0.0</td>\n",
       "      <td>0.003865</td>\n",
       "      <td>0.002365</td>\n",
       "      <td>0.1950</td>\n",
       "      <td>6KbQ3uYMLKb5jDxLF7wYDD</td>\n",
       "      <td>...</td>\n",
       "      <td>0.0506</td>\n",
       "      <td>0.7790</td>\n",
       "      <td>Carl Woitschach</td>\n",
       "      <td>[]</td>\n",
       "      <td>2.351675</td>\n",
       "      <td>1.779346</td>\n",
       "      <td>0.910064</td>\n",
       "      <td>-1.281001</td>\n",
       "      <td>-0.472533</td>\n",
       "      <td>0.425612</td>\n",
       "    </tr>\n",
       "    <tr>\n",
       "      <td>1</td>\n",
       "      <td>0.994</td>\n",
       "      <td>Fantasiestücke, Op. 111: Più tosto lento Rober...</td>\n",
       "      <td>0.379</td>\n",
       "      <td>0.001685</td>\n",
       "      <td>-0.005434</td>\n",
       "      <td>0.0</td>\n",
       "      <td>0.003092</td>\n",
       "      <td>0.002365</td>\n",
       "      <td>0.0135</td>\n",
       "      <td>6KuQTIu1KoTTkLXKrwlLPV</td>\n",
       "      <td>...</td>\n",
       "      <td>0.0462</td>\n",
       "      <td>0.0767</td>\n",
       "      <td>Robert Schumann</td>\n",
       "      <td>['classical', 'early romantic era']</td>\n",
       "      <td>5.135041</td>\n",
       "      <td>-1.101633</td>\n",
       "      <td>0.733296</td>\n",
       "      <td>0.222134</td>\n",
       "      <td>-1.181466</td>\n",
       "      <td>-0.069818</td>\n",
       "    </tr>\n",
       "  </tbody>\n",
       "</table>\n",
       "<p>2 rows × 22 columns</p>\n",
       "</div>"
      ],
      "text/plain": [
       "   acousticness                                               name  \\\n",
       "0         0.995        Singende Bataillone 1. Teil Carl Woitschach   \n",
       "1         0.994  Fantasiestücke, Op. 111: Più tosto lento Rober...   \n",
       "\n",
       "   danceability     tempo  loudness  popularity      year       key  energy  \\\n",
       "0         0.708  0.002377 -0.002373         0.0  0.003865  0.002365  0.1950   \n",
       "1         0.379  0.001685 -0.005434         0.0  0.003092  0.002365  0.0135   \n",
       "\n",
       "                       id  ...  speechiness  valence          artists  \\\n",
       "0  6KbQ3uYMLKb5jDxLF7wYDD  ...       0.0506   0.7790  Carl Woitschach   \n",
       "1  6KuQTIu1KoTTkLXKrwlLPV  ...       0.0462   0.0767  Robert Schumann   \n",
       "\n",
       "                                genres         0         1         2  \\\n",
       "0                                   []  2.351675  1.779346  0.910064   \n",
       "1  ['classical', 'early romantic era']  5.135041 -1.101633  0.733296   \n",
       "\n",
       "          3         4         5  \n",
       "0 -1.281001 -0.472533  0.425612  \n",
       "1  0.222134 -1.181466 -0.069818  \n",
       "\n",
       "[2 rows x 22 columns]"
      ]
     },
     "execution_count": 17,
     "metadata": {},
     "output_type": "execute_result"
    }
   ],
   "source": [
    "df.head(2)"
   ]
  },
  {
   "cell_type": "code",
   "execution_count": 18,
   "metadata": {},
   "outputs": [],
   "source": [
    "df = df[['name','id','artists','genres','year',0,1,2,3,4,5]]"
   ]
  },
  {
   "cell_type": "code",
   "execution_count": 19,
   "metadata": {
    "scrolled": true
   },
   "outputs": [
    {
     "data": {
      "text/html": [
       "<div>\n",
       "<style scoped>\n",
       "    .dataframe tbody tr th:only-of-type {\n",
       "        vertical-align: middle;\n",
       "    }\n",
       "\n",
       "    .dataframe tbody tr th {\n",
       "        vertical-align: top;\n",
       "    }\n",
       "\n",
       "    .dataframe thead th {\n",
       "        text-align: right;\n",
       "    }\n",
       "</style>\n",
       "<table border=\"1\" class=\"dataframe\">\n",
       "  <thead>\n",
       "    <tr style=\"text-align: right;\">\n",
       "      <th></th>\n",
       "      <th>name</th>\n",
       "      <th>id</th>\n",
       "      <th>artists</th>\n",
       "      <th>genres</th>\n",
       "      <th>year</th>\n",
       "      <th>0</th>\n",
       "      <th>1</th>\n",
       "      <th>2</th>\n",
       "      <th>3</th>\n",
       "      <th>4</th>\n",
       "      <th>5</th>\n",
       "    </tr>\n",
       "  </thead>\n",
       "  <tbody>\n",
       "    <tr>\n",
       "      <td>0</td>\n",
       "      <td>Singende Bataillone 1. Teil Carl Woitschach</td>\n",
       "      <td>6KbQ3uYMLKb5jDxLF7wYDD</td>\n",
       "      <td>Carl Woitschach</td>\n",
       "      <td>[]</td>\n",
       "      <td>0.003865</td>\n",
       "      <td>2.351675</td>\n",
       "      <td>1.779346</td>\n",
       "      <td>0.910064</td>\n",
       "      <td>-1.281001</td>\n",
       "      <td>-0.472533</td>\n",
       "      <td>0.425612</td>\n",
       "    </tr>\n",
       "    <tr>\n",
       "      <td>1</td>\n",
       "      <td>Fantasiestücke, Op. 111: Più tosto lento Rober...</td>\n",
       "      <td>6KuQTIu1KoTTkLXKrwlLPV</td>\n",
       "      <td>Robert Schumann</td>\n",
       "      <td>['classical', 'early romantic era']</td>\n",
       "      <td>0.003092</td>\n",
       "      <td>5.135041</td>\n",
       "      <td>-1.101633</td>\n",
       "      <td>0.733296</td>\n",
       "      <td>0.222134</td>\n",
       "      <td>-1.181466</td>\n",
       "      <td>-0.069818</td>\n",
       "    </tr>\n",
       "    <tr>\n",
       "      <td>2</td>\n",
       "      <td>Chapter 1.18 - Zamek kaniowski Seweryn Goszczy...</td>\n",
       "      <td>6L63VW0PibdM1HDSBoqnoM</td>\n",
       "      <td>Seweryn Goszczyński</td>\n",
       "      <td>[]</td>\n",
       "      <td>0.001932</td>\n",
       "      <td>2.011972</td>\n",
       "      <td>4.620201</td>\n",
       "      <td>-0.344635</td>\n",
       "      <td>2.715108</td>\n",
       "      <td>-0.962605</td>\n",
       "      <td>-2.328331</td>\n",
       "    </tr>\n",
       "    <tr>\n",
       "      <td>3</td>\n",
       "      <td>Bebamos Juntos - Instrumental (Remasterizado) ...</td>\n",
       "      <td>6M94FkXd15sOAOQYRnWPN8</td>\n",
       "      <td>Francisco Canaro</td>\n",
       "      <td>['tango', 'vintage tango']</td>\n",
       "      <td>0.000386</td>\n",
       "      <td>2.897644</td>\n",
       "      <td>1.714220</td>\n",
       "      <td>1.348373</td>\n",
       "      <td>-0.943884</td>\n",
       "      <td>-1.515001</td>\n",
       "      <td>0.436541</td>\n",
       "    </tr>\n",
       "    <tr>\n",
       "      <td>4</td>\n",
       "      <td>Polonaise-Fantaisie in A-Flat Major, Op. 61 Fr...</td>\n",
       "      <td>6N6tiFZ9vLTSOIxkj8qKrd</td>\n",
       "      <td>Frédéric Chopin</td>\n",
       "      <td>['classical', 'early romantic era', 'polish cl...</td>\n",
       "      <td>0.004251</td>\n",
       "      <td>4.298736</td>\n",
       "      <td>-1.524035</td>\n",
       "      <td>0.117903</td>\n",
       "      <td>-0.091247</td>\n",
       "      <td>-0.909719</td>\n",
       "      <td>1.037288</td>\n",
       "    </tr>\n",
       "  </tbody>\n",
       "</table>\n",
       "</div>"
      ],
      "text/plain": [
       "                                                name                      id  \\\n",
       "0        Singende Bataillone 1. Teil Carl Woitschach  6KbQ3uYMLKb5jDxLF7wYDD   \n",
       "1  Fantasiestücke, Op. 111: Più tosto lento Rober...  6KuQTIu1KoTTkLXKrwlLPV   \n",
       "2  Chapter 1.18 - Zamek kaniowski Seweryn Goszczy...  6L63VW0PibdM1HDSBoqnoM   \n",
       "3  Bebamos Juntos - Instrumental (Remasterizado) ...  6M94FkXd15sOAOQYRnWPN8   \n",
       "4  Polonaise-Fantaisie in A-Flat Major, Op. 61 Fr...  6N6tiFZ9vLTSOIxkj8qKrd   \n",
       "\n",
       "               artists                                             genres  \\\n",
       "0      Carl Woitschach                                                 []   \n",
       "1      Robert Schumann                ['classical', 'early romantic era']   \n",
       "2  Seweryn Goszczyński                                                 []   \n",
       "3     Francisco Canaro                         ['tango', 'vintage tango']   \n",
       "4      Frédéric Chopin  ['classical', 'early romantic era', 'polish cl...   \n",
       "\n",
       "       year         0         1         2         3         4         5  \n",
       "0  0.003865  2.351675  1.779346  0.910064 -1.281001 -0.472533  0.425612  \n",
       "1  0.003092  5.135041 -1.101633  0.733296  0.222134 -1.181466 -0.069818  \n",
       "2  0.001932  2.011972  4.620201 -0.344635  2.715108 -0.962605 -2.328331  \n",
       "3  0.000386  2.897644  1.714220  1.348373 -0.943884 -1.515001  0.436541  \n",
       "4  0.004251  4.298736 -1.524035  0.117903 -0.091247 -0.909719  1.037288  "
      ]
     },
     "execution_count": 19,
     "metadata": {},
     "output_type": "execute_result"
    }
   ],
   "source": [
    "df.head()"
   ]
  },
  {
   "cell_type": "code",
   "execution_count": 20,
   "metadata": {},
   "outputs": [
    {
     "data": {
      "text/plain": [
       "(156581, 11)"
      ]
     },
     "execution_count": 20,
     "metadata": {},
     "output_type": "execute_result"
    }
   ],
   "source": [
    "df.shape"
   ]
  },
  {
   "cell_type": "code",
   "execution_count": 21,
   "metadata": {},
   "outputs": [],
   "source": [
    "#df.to_csv('PCADWG.csv')\n",
    "newdf = pd.read_csv('Kmeansfromscratch2.csv')\n",
    "dfnew = pd.merge(df, newdf, left_on ='name', right_on = 'name')"
   ]
  },
  {
   "cell_type": "code",
   "execution_count": 22,
   "metadata": {},
   "outputs": [
    {
     "data": {
      "text/html": [
       "<div>\n",
       "<style scoped>\n",
       "    .dataframe tbody tr th:only-of-type {\n",
       "        vertical-align: middle;\n",
       "    }\n",
       "\n",
       "    .dataframe tbody tr th {\n",
       "        vertical-align: top;\n",
       "    }\n",
       "\n",
       "    .dataframe thead th {\n",
       "        text-align: right;\n",
       "    }\n",
       "</style>\n",
       "<table border=\"1\" class=\"dataframe\">\n",
       "  <thead>\n",
       "    <tr style=\"text-align: right;\">\n",
       "      <th></th>\n",
       "      <th>name</th>\n",
       "      <th>id_x</th>\n",
       "      <th>artists_x</th>\n",
       "      <th>genres_x</th>\n",
       "      <th>year_x</th>\n",
       "      <th>0</th>\n",
       "      <th>1</th>\n",
       "      <th>2</th>\n",
       "      <th>3</th>\n",
       "      <th>4</th>\n",
       "      <th>...</th>\n",
       "      <th>energy</th>\n",
       "      <th>id_y</th>\n",
       "      <th>instrumentalness</th>\n",
       "      <th>liveness</th>\n",
       "      <th>sub_cluster</th>\n",
       "      <th>speechiness</th>\n",
       "      <th>valence</th>\n",
       "      <th>artists_y</th>\n",
       "      <th>genres_y</th>\n",
       "      <th>cluster_no</th>\n",
       "    </tr>\n",
       "  </thead>\n",
       "  <tbody>\n",
       "    <tr>\n",
       "      <td>0</td>\n",
       "      <td>Singende Bataillone 1. Teil Carl Woitschach</td>\n",
       "      <td>6KbQ3uYMLKb5jDxLF7wYDD</td>\n",
       "      <td>Carl Woitschach</td>\n",
       "      <td>[]</td>\n",
       "      <td>0.003865</td>\n",
       "      <td>2.351675</td>\n",
       "      <td>1.779346</td>\n",
       "      <td>0.910064</td>\n",
       "      <td>-1.281001</td>\n",
       "      <td>-0.472533</td>\n",
       "      <td>...</td>\n",
       "      <td>0.195</td>\n",
       "      <td>6KbQ3uYMLKb5jDxLF7wYDD</td>\n",
       "      <td>0.563</td>\n",
       "      <td>0.151</td>\n",
       "      <td>0.0</td>\n",
       "      <td>0.0506</td>\n",
       "      <td>0.779</td>\n",
       "      <td>Carl Woitschach</td>\n",
       "      <td>[]</td>\n",
       "      <td>2.0</td>\n",
       "    </tr>\n",
       "  </tbody>\n",
       "</table>\n",
       "<p>1 rows × 29 columns</p>\n",
       "</div>"
      ],
      "text/plain": [
       "                                          name                    id_x  \\\n",
       "0  Singende Bataillone 1. Teil Carl Woitschach  6KbQ3uYMLKb5jDxLF7wYDD   \n",
       "\n",
       "         artists_x genres_x    year_x         0         1         2         3  \\\n",
       "0  Carl Woitschach       []  0.003865  2.351675  1.779346  0.910064 -1.281001   \n",
       "\n",
       "          4  ...  energy                    id_y  instrumentalness  liveness  \\\n",
       "0 -0.472533  ...   0.195  6KbQ3uYMLKb5jDxLF7wYDD             0.563     0.151   \n",
       "\n",
       "   sub_cluster  speechiness  valence        artists_y  genres_y  cluster_no  \n",
       "0          0.0       0.0506    0.779  Carl Woitschach        []         2.0  \n",
       "\n",
       "[1 rows x 29 columns]"
      ]
     },
     "execution_count": 22,
     "metadata": {},
     "output_type": "execute_result"
    }
   ],
   "source": [
    "dfnew.head(1)"
   ]
  },
  {
   "cell_type": "code",
   "execution_count": 23,
   "metadata": {},
   "outputs": [],
   "source": [
    "dfnew = dfnew.drop(['Unnamed: 0',\"id_y\",'year_y','acousticness','danceability','instrumentalness','key','liveness','popularity','valence','tempo','loudness','energy','speechiness','artists_y','genres_x'],axis=1)\n",
    "dfnew = dfnew.rename(columns= {'id_x':\"id\", 'year_x':'year','artists_x':'artists','genres_y':'genres'})\n",
    "X = np.array(dfnew['name'])\n",
    "for i in range(0,len(X)):\n",
    "    X[i] = X[i].lower()\n",
    "dfnew = dfnew.drop(['name'],axis=1)\n",
    "dfnew.insert(loc = 0, column = 'name',value = X)"
   ]
  },
  {
   "cell_type": "code",
   "execution_count": 24,
   "metadata": {},
   "outputs": [
    {
     "data": {
      "text/html": [
       "<div>\n",
       "<style scoped>\n",
       "    .dataframe tbody tr th:only-of-type {\n",
       "        vertical-align: middle;\n",
       "    }\n",
       "\n",
       "    .dataframe tbody tr th {\n",
       "        vertical-align: top;\n",
       "    }\n",
       "\n",
       "    .dataframe thead th {\n",
       "        text-align: right;\n",
       "    }\n",
       "</style>\n",
       "<table border=\"1\" class=\"dataframe\">\n",
       "  <thead>\n",
       "    <tr style=\"text-align: right;\">\n",
       "      <th></th>\n",
       "      <th>name</th>\n",
       "      <th>id</th>\n",
       "      <th>artists</th>\n",
       "      <th>year</th>\n",
       "      <th>0</th>\n",
       "      <th>1</th>\n",
       "      <th>2</th>\n",
       "      <th>3</th>\n",
       "      <th>4</th>\n",
       "      <th>5</th>\n",
       "      <th>sub_cluster</th>\n",
       "      <th>genres</th>\n",
       "      <th>cluster_no</th>\n",
       "    </tr>\n",
       "  </thead>\n",
       "  <tbody>\n",
       "    <tr>\n",
       "      <td>0</td>\n",
       "      <td>singende bataillone 1. teil carl woitschach</td>\n",
       "      <td>6KbQ3uYMLKb5jDxLF7wYDD</td>\n",
       "      <td>Carl Woitschach</td>\n",
       "      <td>0.003865</td>\n",
       "      <td>2.351675</td>\n",
       "      <td>1.779346</td>\n",
       "      <td>0.910064</td>\n",
       "      <td>-1.281001</td>\n",
       "      <td>-0.472533</td>\n",
       "      <td>0.425612</td>\n",
       "      <td>0.0</td>\n",
       "      <td>[]</td>\n",
       "      <td>2.0</td>\n",
       "    </tr>\n",
       "  </tbody>\n",
       "</table>\n",
       "</div>"
      ],
      "text/plain": [
       "                                          name                      id  \\\n",
       "0  singende bataillone 1. teil carl woitschach  6KbQ3uYMLKb5jDxLF7wYDD   \n",
       "\n",
       "           artists      year         0         1         2         3  \\\n",
       "0  Carl Woitschach  0.003865  2.351675  1.779346  0.910064 -1.281001   \n",
       "\n",
       "          4         5  sub_cluster genres  cluster_no  \n",
       "0 -0.472533  0.425612          0.0     []         2.0  "
      ]
     },
     "execution_count": 24,
     "metadata": {},
     "output_type": "execute_result"
    }
   ],
   "source": [
    "dfnew.head(1)"
   ]
  },
  {
   "cell_type": "code",
   "execution_count": 25,
   "metadata": {},
   "outputs": [],
   "source": [
    "dfnew = dfnew[['name','id','artists','genres','year',0,1,2,3,4,5,'cluster_no','sub_cluster']]"
   ]
  },
  {
   "cell_type": "code",
   "execution_count": 26,
   "metadata": {
    "scrolled": true
   },
   "outputs": [
    {
     "data": {
      "text/html": [
       "<div>\n",
       "<style scoped>\n",
       "    .dataframe tbody tr th:only-of-type {\n",
       "        vertical-align: middle;\n",
       "    }\n",
       "\n",
       "    .dataframe tbody tr th {\n",
       "        vertical-align: top;\n",
       "    }\n",
       "\n",
       "    .dataframe thead th {\n",
       "        text-align: right;\n",
       "    }\n",
       "</style>\n",
       "<table border=\"1\" class=\"dataframe\">\n",
       "  <thead>\n",
       "    <tr style=\"text-align: right;\">\n",
       "      <th></th>\n",
       "      <th>name</th>\n",
       "      <th>id</th>\n",
       "      <th>artists</th>\n",
       "      <th>genres</th>\n",
       "      <th>year</th>\n",
       "      <th>0</th>\n",
       "      <th>1</th>\n",
       "      <th>2</th>\n",
       "      <th>3</th>\n",
       "      <th>4</th>\n",
       "      <th>5</th>\n",
       "      <th>cluster_no</th>\n",
       "      <th>sub_cluster</th>\n",
       "    </tr>\n",
       "  </thead>\n",
       "  <tbody>\n",
       "    <tr>\n",
       "      <td>0</td>\n",
       "      <td>singende bataillone 1. teil carl woitschach</td>\n",
       "      <td>6KbQ3uYMLKb5jDxLF7wYDD</td>\n",
       "      <td>Carl Woitschach</td>\n",
       "      <td>[]</td>\n",
       "      <td>0.003865</td>\n",
       "      <td>2.351675</td>\n",
       "      <td>1.779346</td>\n",
       "      <td>0.910064</td>\n",
       "      <td>-1.281001</td>\n",
       "      <td>-0.472533</td>\n",
       "      <td>0.425612</td>\n",
       "      <td>2.0</td>\n",
       "      <td>0.0</td>\n",
       "    </tr>\n",
       "  </tbody>\n",
       "</table>\n",
       "</div>"
      ],
      "text/plain": [
       "                                          name                      id  \\\n",
       "0  singende bataillone 1. teil carl woitschach  6KbQ3uYMLKb5jDxLF7wYDD   \n",
       "\n",
       "           artists genres      year         0         1         2         3  \\\n",
       "0  Carl Woitschach     []  0.003865  2.351675  1.779346  0.910064 -1.281001   \n",
       "\n",
       "          4         5  cluster_no  sub_cluster  \n",
       "0 -0.472533  0.425612         2.0          0.0  "
      ]
     },
     "execution_count": 26,
     "metadata": {},
     "output_type": "execute_result"
    }
   ],
   "source": [
    "dfnew.head(1)"
   ]
  },
  {
   "cell_type": "code",
   "execution_count": 27,
   "metadata": {},
   "outputs": [
    {
     "data": {
      "text/plain": [
       "(156581, 13)"
      ]
     },
     "execution_count": 27,
     "metadata": {},
     "output_type": "execute_result"
    }
   ],
   "source": [
    "dfnew.shape"
   ]
  },
  {
   "cell_type": "code",
   "execution_count": 28,
   "metadata": {},
   "outputs": [],
   "source": [
    "dfnew.to_csv(\"PCAClustering2.csv\")"
   ]
  },
  {
   "cell_type": "code",
   "execution_count": null,
   "metadata": {},
   "outputs": [],
   "source": []
  }
 ],
 "metadata": {
  "kernelspec": {
   "display_name": "Python 3",
   "language": "python",
   "name": "python3"
  },
  "language_info": {
   "codemirror_mode": {
    "name": "ipython",
    "version": 3
   },
   "file_extension": ".py",
   "mimetype": "text/x-python",
   "name": "python",
   "nbconvert_exporter": "python",
   "pygments_lexer": "ipython3",
   "version": "3.7.4"
  }
 },
 "nbformat": 4,
 "nbformat_minor": 2
}
