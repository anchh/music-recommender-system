{
 "cells": [
  {
   "cell_type": "code",
   "execution_count": 5,
   "metadata": {},
   "outputs": [],
   "source": [
    "import pandas as pd\n",
    "import numpy as np\n",
    "import timeit"
   ]
  },
  {
   "cell_type": "code",
   "execution_count": 6,
   "metadata": {},
   "outputs": [],
   "source": [
    "df = pd.read_csv('PCAclustering.csv')"
   ]
  },
  {
   "cell_type": "code",
   "execution_count": 7,
   "metadata": {
    "scrolled": false
   },
   "outputs": [
    {
     "data": {
      "text/html": [
       "<div>\n",
       "<style scoped>\n",
       "    .dataframe tbody tr th:only-of-type {\n",
       "        vertical-align: middle;\n",
       "    }\n",
       "\n",
       "    .dataframe tbody tr th {\n",
       "        vertical-align: top;\n",
       "    }\n",
       "\n",
       "    .dataframe thead th {\n",
       "        text-align: right;\n",
       "    }\n",
       "</style>\n",
       "<table border=\"1\" class=\"dataframe\">\n",
       "  <thead>\n",
       "    <tr style=\"text-align: right;\">\n",
       "      <th></th>\n",
       "      <th>Unnamed: 0</th>\n",
       "      <th>name</th>\n",
       "      <th>id</th>\n",
       "      <th>artists</th>\n",
       "      <th>genres</th>\n",
       "      <th>year</th>\n",
       "      <th>0</th>\n",
       "      <th>1</th>\n",
       "      <th>2</th>\n",
       "      <th>3</th>\n",
       "      <th>4</th>\n",
       "      <th>5</th>\n",
       "      <th>cluster_no</th>\n",
       "      <th>sub_cluster</th>\n",
       "    </tr>\n",
       "  </thead>\n",
       "  <tbody>\n",
       "    <tr>\n",
       "      <td>0</td>\n",
       "      <td>0</td>\n",
       "      <td>kapitel 10 - in der osternacht anton tschechow</td>\n",
       "      <td>2bB8AoMI30VKEnF2sVKxrg</td>\n",
       "      <td>Anton Tschechow</td>\n",
       "      <td>['german literature']</td>\n",
       "      <td>1953.0</td>\n",
       "      <td>-1.837902</td>\n",
       "      <td>3.678128</td>\n",
       "      <td>3.230907</td>\n",
       "      <td>0.075933</td>\n",
       "      <td>0.284615</td>\n",
       "      <td>4.769228</td>\n",
       "      <td>2.0</td>\n",
       "      <td>0.0</td>\n",
       "    </tr>\n",
       "  </tbody>\n",
       "</table>\n",
       "</div>"
      ],
      "text/plain": [
       "   Unnamed: 0                                            name  \\\n",
       "0           0  kapitel 10 - in der osternacht anton tschechow   \n",
       "\n",
       "                       id          artists                 genres    year  \\\n",
       "0  2bB8AoMI30VKEnF2sVKxrg  Anton Tschechow  ['german literature']  1953.0   \n",
       "\n",
       "          0         1         2         3         4         5  cluster_no  \\\n",
       "0 -1.837902  3.678128  3.230907  0.075933  0.284615  4.769228         2.0   \n",
       "\n",
       "   sub_cluster  \n",
       "0          0.0  "
      ]
     },
     "execution_count": 7,
     "metadata": {},
     "output_type": "execute_result"
    }
   ],
   "source": [
    "df.head(1)"
   ]
  },
  {
   "cell_type": "code",
   "execution_count": 8,
   "metadata": {},
   "outputs": [],
   "source": [
    "df['year'] = (df['year']-1920)/100"
   ]
  },
  {
   "cell_type": "code",
   "execution_count": 9,
   "metadata": {},
   "outputs": [
    {
     "data": {
      "text/html": [
       "<div>\n",
       "<style scoped>\n",
       "    .dataframe tbody tr th:only-of-type {\n",
       "        vertical-align: middle;\n",
       "    }\n",
       "\n",
       "    .dataframe tbody tr th {\n",
       "        vertical-align: top;\n",
       "    }\n",
       "\n",
       "    .dataframe thead th {\n",
       "        text-align: right;\n",
       "    }\n",
       "</style>\n",
       "<table border=\"1\" class=\"dataframe\">\n",
       "  <thead>\n",
       "    <tr style=\"text-align: right;\">\n",
       "      <th></th>\n",
       "      <th>name</th>\n",
       "      <th>id</th>\n",
       "      <th>artists</th>\n",
       "      <th>genres</th>\n",
       "      <th>year</th>\n",
       "      <th>0</th>\n",
       "      <th>1</th>\n",
       "      <th>2</th>\n",
       "      <th>3</th>\n",
       "      <th>4</th>\n",
       "      <th>5</th>\n",
       "      <th>cluster_no</th>\n",
       "      <th>sub_cluster</th>\n",
       "    </tr>\n",
       "  </thead>\n",
       "  <tbody>\n",
       "    <tr>\n",
       "      <td>0</td>\n",
       "      <td>kapitel 10 - in der osternacht anton tschechow</td>\n",
       "      <td>2bB8AoMI30VKEnF2sVKxrg</td>\n",
       "      <td>Anton Tschechow</td>\n",
       "      <td>['german literature']</td>\n",
       "      <td>0.33</td>\n",
       "      <td>-1.837902</td>\n",
       "      <td>3.678128</td>\n",
       "      <td>3.230907</td>\n",
       "      <td>0.075933</td>\n",
       "      <td>0.284615</td>\n",
       "      <td>4.769228</td>\n",
       "      <td>2.0</td>\n",
       "      <td>0.0</td>\n",
       "    </tr>\n",
       "  </tbody>\n",
       "</table>\n",
       "</div>"
      ],
      "text/plain": [
       "                                             name                      id  \\\n",
       "0  kapitel 10 - in der osternacht anton tschechow  2bB8AoMI30VKEnF2sVKxrg   \n",
       "\n",
       "           artists                 genres  year         0         1         2  \\\n",
       "0  Anton Tschechow  ['german literature']  0.33 -1.837902  3.678128  3.230907   \n",
       "\n",
       "          3         4         5  cluster_no  sub_cluster  \n",
       "0  0.075933  0.284615  4.769228         2.0          0.0  "
      ]
     },
     "execution_count": 9,
     "metadata": {},
     "output_type": "execute_result"
    }
   ],
   "source": [
    "df =df.drop([\"Unnamed: 0\"],axis=1)\n",
    "df.head(1)"
   ]
  },
  {
   "cell_type": "code",
   "execution_count": 12,
   "metadata": {},
   "outputs": [
    {
     "name": "stdout",
     "output_type": "stream",
     "text": [
      "Enter Song Name: She dodie\n",
      "she dodie\n",
      "(11144, 14)\n",
      "10902\n",
      "Recommendations for she dodie:\n",
      "\n",
      "turning page sleeping at last, with distance of 1.7488691927001956\n",
      "tepid rainscape fizzonaut, with distance of 16.49894993267849\n",
      "ocean lady a, with distance of 26.055785063803505\n",
      "desperado - 2013 remaster eagles, with distance of 52.05262305433539\n",
      "don't let me down - remastered 2009 the beatles, with distance of 61.04279004731617\n",
      "stairway to heaven - 1990 remaster led zeppelin, with distance of 70.02558454004905\n",
      "no matter what calum scott, with distance of 71.05466358713613\n",
      "dreamland glass animals, with distance of 77.04798178986316\n",
      "golden thing cody simpson, with distance of 113.0029704223\n",
      "the greatest lana del rey, with distance of 120.00217593468841\n",
      "Time:  0.3536331999999902\n"
     ]
    }
   ],
   "source": [
    "from sklearn.neighbors import NearestNeighbors\n",
    "knn_params = {'n_neighbors':range(1,10)}\n",
    "knn = NearestNeighbors(n_jobs=-1,algorithm = 'auto', n_neighbors=11)\n",
    "song = input(\"Enter Song Name: \")\n",
    "song = song.lower()\n",
    "q = df.index[df['name']==song]\n",
    "qind= q[0]\n",
    "print(df.iloc[qind]['name'])\n",
    "clust = df.iloc[qind]\n",
    "#isolating the rows belonging to the same cluster and sub cluster\n",
    "x = [clust['cluster_no'],clust['sub_cluster']]\n",
    "newdf = df[df['cluster_no']==x[0]]\n",
    "newdf = newdf[newdf['sub_cluster']==x[1]]\n",
    "newdf =newdf.reset_index()\n",
    "print(newdf.shape)\n",
    "#finding query index for the song in the new isolated dataset\n",
    "q = newdf.index[newdf['name']==song]\n",
    "query_index = q[0]\n",
    "X_wnames = np.array(newdf['name'])\n",
    "X = np.array(newdf.drop(['id','name','artists','genres'], axis = 1))\n",
    "print(query_index)\n",
    "start = timeit.default_timer()\n",
    "knn.fit(X)\n",
    "X_df = pd.DataFrame(X)\n",
    "query_index= q[0]\n",
    "distances, indices = knn.kneighbors(X_df.iloc[query_index,:].values.reshape(1,-1), n_neighbors =11)\n",
    "stop = timeit.default_timer()\n",
    "for i in range(0,len(distances.flatten())):\n",
    "    if i==0:\n",
    "        print(\"Recommendations for {0}:\\n\".format(X_wnames[query_index]))\n",
    "    else:\n",
    "        print('{1}, with distance of {2}'.format(i, X_wnames[indices.flatten()[i]], distances.flatten()[i]))\n",
    "print('Time: ', stop - start)"
   ]
  },
  {
   "cell_type": "code",
   "execution_count": null,
   "metadata": {},
   "outputs": [],
   "source": []
  }
 ],
 "metadata": {
  "kernelspec": {
   "display_name": "Python 3",
   "language": "python",
   "name": "python3"
  },
  "language_info": {
   "codemirror_mode": {
    "name": "ipython",
    "version": 3
   },
   "file_extension": ".py",
   "mimetype": "text/x-python",
   "name": "python",
   "nbconvert_exporter": "python",
   "pygments_lexer": "ipython3",
   "version": "3.7.4"
  }
 },
 "nbformat": 4,
 "nbformat_minor": 2
}
