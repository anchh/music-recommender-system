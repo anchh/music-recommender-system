{
 "cells": [
  {
   "cell_type": "code",
   "execution_count": 6,
   "metadata": {},
   "outputs": [],
   "source": [
    "import numpy as np\n",
    "import pandas as pd\n",
    "import timeit\n",
    "df = pd.read_csv(\"PCAClustering2.csv\")\n",
    "df = df.drop(['Unnamed: 0'],axis =1)"
   ]
  },
  {
   "cell_type": "code",
   "execution_count": 7,
   "metadata": {},
   "outputs": [],
   "source": [
    "def distance(a,b):\n",
    "    a = np.array(a)\n",
    "    b = np.array(b)\n",
    "    distance=1-(np.dot(a,b)/np.sqrt(np.dot(a,a)*np.dot(b,b))) #calculating cosine distance between the PCA features of the two songs\n",
    "    return distance\n",
    "\n",
    "def Similarity(Id1, Id2):\n",
    "    a = np.array(newdf.iloc[Id1])\n",
    "    b = np.array(newdf.iloc[Id2])\n",
    "    aA = a[6:12] #isolating the features of the songs (PCA values)\n",
    "    bB = b[6:12]\n",
    "    extra=0\n",
    "    genre=0\n",
    "    if a[1] == b[1]: #to make sure the same song is not recommended\n",
    "        return 1000\n",
    "    if a[3]==b[3]: #to make sure song by the same artist is not recommended unless no similar song is found\n",
    "        extra = extra+0.5\n",
    "    for i in a[4]:\n",
    "        if i not in b[4]:\n",
    "            genre = genre+1\n",
    "    if genre == len(a[4]): #to make sure song that does not share the same genre is not recommended\n",
    "        return 1000;\n",
    "    extra = extra+ 0.01*(genre) #penalising for genres that are not common\n",
    "    if abs(a[5]-b[5])>5:\n",
    "        extra = extra + abs(a[5]-b[5])/10 #penalising if the year gap between the songs is too large\n",
    "    Distance = distance(aA,bB)\n",
    "    return extra+Distance"
   ]
  },
  {
   "cell_type": "code",
   "execution_count": 12,
   "metadata": {
    "scrolled": true
   },
   "outputs": [
    {
     "name": "stdout",
     "output_type": "stream",
     "text": [
      "Enter Song Name: she dodie\n",
      "she dodie\n",
      "(6608, 14)\n",
      "6275\n",
      "                                          name     score\n",
      "2205                  real estate adam melchor  0.005616\n",
      "5590               two of us on the run lucius  0.007423\n",
      "5320                    touch sleeping at last  0.009466\n",
      "3849                 cherry wine - live hozier  0.010070\n",
      "1432          dancing in the dark eddie berman  0.013678\n",
      "4403  boys like you - acoustic anna clendening  0.017037\n",
      "1065                alone with you canyon city  0.017510\n",
      "310              already gone sleeping at last  0.020572\n",
      "2202              perfectly wrong shawn mendes  0.021343\n",
      "6236                       my lover birdtalker  0.022297\n",
      "Time:  7.290059500000098\n"
     ]
    }
   ],
   "source": [
    "#def pred(song):\n",
    "song = input(\"Enter Song Name: \")\n",
    "song = song.lower()\n",
    "q = df.index[df['name']==song]\n",
    "qind= q[0]\n",
    "print(df.iloc[qind]['name'])\n",
    "clust = df.iloc[qind]\n",
    "#isolating the rows belonging to the same cluster and sub cluster\n",
    "x = [clust['cluster_no'],clust['sub_cluster']]\n",
    "newdf = df[df['cluster_no']==x[0]]\n",
    "newdf = newdf[newdf['sub_cluster']==x[1]]\n",
    "newdf =newdf.reset_index()\n",
    "print(newdf.shape)\n",
    "#finding query index for the song in the new isolated dataset\n",
    "q = newdf.index[newdf['name']==song]\n",
    "query_index1 = q[0]\n",
    "print(query_index1)\n",
    "simdict = []\n",
    "start = timeit.default_timer()\n",
    "#calculating similarity between the input song and the rest of the songs in the dataset\n",
    "for i in range(0, newdf.shape[0]):\n",
    "    simdict.append((newdf.iloc[i]['name'],abs(Similarity(query_index1,i))))\n",
    "stop = timeit.default_timer()\n",
    "new = pd.DataFrame.from_dict(simdict)\n",
    "new.columns = [\"name\",\"score\"]\n",
    "new=new.sort_values('score') #sorting the scores in ascending order\n",
    "res = new.head(10)\n",
    "print(res)\n",
    "print('Time: ', stop - start) "
   ]
  },
  {
   "cell_type": "code",
   "execution_count": null,
   "metadata": {},
   "outputs": [],
   "source": []
  },
  {
   "cell_type": "code",
   "execution_count": null,
   "metadata": {},
   "outputs": [],
   "source": []
  }
 ],
 "metadata": {
  "kernelspec": {
   "display_name": "Python 3",
   "language": "python",
   "name": "python3"
  },
  "language_info": {
   "codemirror_mode": {
    "name": "ipython",
    "version": 3
   },
   "file_extension": ".py",
   "mimetype": "text/x-python",
   "name": "python",
   "nbconvert_exporter": "python",
   "pygments_lexer": "ipython3",
   "version": "3.7.4"
  }
 },
 "nbformat": 4,
 "nbformat_minor": 2
}
